{
  "cells": [
    {
      "cell_type": "markdown",
      "id": "b1e4b37a",
      "metadata": {
        "id": "b1e4b37a"
      },
      "source": [
        "**Practical session n°1**\n",
        "In part I:\n",
        "- Learning a perceptron through stochastic gradient descent.\n",
        "- Multi-layer perceptron.\n",
        "- Cost function adapted to classification tasks.\n",
        "\n",
        "In part II:\n",
        "- Other basic building blocks of deep networks: convolutional layers and non-linearities.\n",
        "- Analysis of a standard Convolutionnal Neural Network (CNN) trained on imagenet.\n",
        "\n",
        "Duration: 2 h\n",
        "\n",
        "**Part I**\n",
        "\n",
        "This part introduces neural networks through a presentation of the perceptron. It is also an opportunity to familiarize yourself with PyTorch commands. PyTorch is one of the three most widely used libraries for deep learning, along with Keras and TensorFlow (Keras is built on top of Tensorflow).\n",
        "\n",
        "\"Deep learning\" is, by definition, the learning of \"deep\" neural networks through stochastic gradient descent. By \"deep,\" we mean networks composed of a succession of \"layers\" of neurons.\n",
        "\n",
        "The basic building blocks that allow us to construct these layers are coded in the torch.nn module."
      ]
    },
    {
      "cell_type": "code",
      "execution_count": 1,
      "id": "b88495c8",
      "metadata": {
        "colab": {
          "base_uri": "https://localhost:8080/"
        },
        "id": "b88495c8",
        "outputId": "164f5259-e6db-4bb7-ec2b-bd624429bd57"
      },
      "outputs": [
        {
          "output_type": "execute_result",
          "data": {
            "text/plain": [
              "<torch._C.Generator at 0x7ff0b3763b70>"
            ]
          },
          "metadata": {},
          "execution_count": 1
        }
      ],
      "source": [
        "from matplotlib import pyplot as plt\n",
        "import numpy as np\n",
        "import torch\n",
        "import torch.nn as nn\n",
        "torch.manual_seed(1)\n",
        "#modification"
      ]
    },
    {
      "cell_type": "markdown",
      "id": "1b0dcd41",
      "metadata": {
        "id": "1b0dcd41"
      },
      "source": [
        "**A.** First, let's revisit the perceptron. To introduce learning through stochastic gradient descent, we will address a simple binary classification problem."
      ]
    },
    {
      "cell_type": "code",
      "execution_count": 2,
      "id": "b72725a8",
      "metadata": {
        "colab": {
          "base_uri": "https://localhost:8080/",
          "height": 470
        },
        "id": "b72725a8",
        "outputId": "ab33ee70-6739-4b5d-95f0-d5e76a2d0a05"
      },
      "outputs": [
        {
          "output_type": "execute_result",
          "data": {
            "text/plain": [
              "<matplotlib.legend.Legend at 0x7fefeafb5600>"
            ]
          },
          "metadata": {},
          "execution_count": 2
        },
        {
          "output_type": "display_data",
          "data": {
            "text/plain": [
              "<Figure size 640x480 with 1 Axes>"
            ],
            "image/png": "[encoded data removed]"
          },
          "metadata": {}
        }
      ],
      "source": [
        "# Data to separate:\n",
        "n = 100\n",
        "std = 0.5\n",
        "\n",
        "# Sample 1:\n",
        "mean0 = torch.tensor((-1., -1.))\n",
        "ech0 = mean0 + std * torch.randn(n, 2)\n",
        "\n",
        "# Sample 2:\n",
        "mean1 = torch.tensor((1., 1.))\n",
        "ech1 = mean1 + std * torch.randn(n, 2)\n",
        "\n",
        "echs = [ech0, ech1]\n",
        "\n",
        "# Scatter plot:\n",
        "fig, ax = plt.subplots()\n",
        "ax.axis([-3, 3, -3, 3])\n",
        "\n",
        "plt.title('data')\n",
        "colors = ['b', 'r']\n",
        "labels = ['0', '1']\n",
        "\n",
        "for i, ech in enumerate(echs):\n",
        "    x, y = ech.numpy()[:, 0], ech.numpy()[:, 1]\n",
        "    ax.scatter(x, y, color=colors[i])\n",
        "\n",
        "plt.legend(labels)"
      ]
    },
    {
      "cell_type": "markdown",
      "id": "43354804",
      "metadata": {
        "id": "43354804"
      },
      "source": [
        "A simple perceptron (single neuron) consists of two parts: a linear part containing a dot product and a \"bias\" (b) and a non-linear part, the activation function (A):\n",
        "\\begin{equation*}\n",
        " f(x; \\omega,b) = \\mathcal{A}({\\sum} \\omega_i x_i  + b )  \\tag{1}\n",
        "\\end{equation*}\n",
        "\n",
        "The class P1 below codes for perceptrons defined on R^2 and whose activation function is a sigmoid:\n",
        "\\begin{equation*}\n",
        "\\mathcal{A}(y) = \\dfrac{1}{1+e^{-y}}\n",
        "\\end{equation*}\n",
        "The sigmoid function is in the range [0, 1]. Therefore, the neuron's output can be interpreted as the probability of belonging to the first of the two classes. In the P1 class, the neuron actually returns a vector of \"probabilities\":"
      ]
    },
    {
      "cell_type": "code",
      "execution_count": 3,
      "id": "f8986f9b",
      "metadata": {
        "colab": {
          "base_uri": "https://localhost:8080/"
        },
        "id": "f8986f9b",
        "outputId": "20a4659a-55ec-416a-963d-269e6e7ba779"
      },
      "outputs": [
        {
          "output_type": "stream",
          "name": "stdout",
          "text": [
            "P1(\n",
            "  (fc): Linear(in_features=2, out_features=1, bias=True)\n",
            ")\n"
          ]
        }
      ],
      "source": [
        "class P1(nn.Module):\n",
        "\n",
        "    def __init__(self):\n",
        "        super(P1, self).__init__()\n",
        "        self.fc = nn.Linear(2, 1)\n",
        "        #a dense layer of 2 neurones\n",
        "\n",
        "    def forward(self, x):\n",
        "        # Dot product and bias\n",
        "        x = self.fc(x)\n",
        "        # Activation\n",
        "        x = x.sigmoid()\n",
        "        # Vector of \"probabilities\" (cat: concatenation)\n",
        "        x = torch.cat((x, 1 - x), dim=1)\n",
        "        return x\n",
        "\n",
        "model = P1()\n",
        "print(model)"
      ]
    },
    {
      "cell_type": "markdown",
      "id": "4ca91dfe",
      "metadata": {
        "id": "4ca91dfe"
      },
      "source": [
        "In the next cell, basic commands are given to access the weights of an instance of P1:"
      ]
    },
    {
      "cell_type": "code",
      "execution_count": 4,
      "id": "1dd27f40",
      "metadata": {
        "colab": {
          "base_uri": "https://localhost:8080/"
        },
        "id": "1dd27f40",
        "outputId": "87ff0bf8-2b90-4eb9-c943-4aa31316c45e"
      },
      "outputs": [
        {
          "output_type": "stream",
          "name": "stdout",
          "text": [
            "tensor([-0.1000,  0.5000])\n",
            "tensor([-1.])\n"
          ]
        }
      ],
      "source": [
        "# Initialization (fantasy) of weights:\n",
        "model.fc.weight[0, 0].data.fill_(-0.1)\n",
        "model.fc.weight[0, 1].data.fill_(0.5)\n",
        "model.fc.bias.data.fill_(-1)\n",
        "\n",
        "# Retrieving weights:\n",
        "fc = model.fc\n",
        "weights = fc.weight.data.squeeze(dim=0)\n",
        "bias = fc.bias.data\n",
        "\n",
        "print(weights)\n",
        "print(bias)"
      ]
    },
    {
      "cell_type": "code",
      "source": [
        "weights"
      ],
      "metadata": {
        "id": "P5hYNcFCJVNV",
        "outputId": "cdd9a668-b5dc-44f5-f6c4-ebf06b60105f",
        "colab": {
          "base_uri": "https://localhost:8080/"
        }
      },
      "id": "P5hYNcFCJVNV",
      "execution_count": 5,
      "outputs": [
        {
          "output_type": "execute_result",
          "data": {
            "text/plain": [
              "tensor([-0.1000,  0.5000])"
            ]
          },
          "metadata": {},
          "execution_count": 5
        }
      ]
    },
    {
      "cell_type": "markdown",
      "id": "417aad92",
      "metadata": {
        "id": "417aad92"
      },
      "source": [
        "**Exercise 1**: Verify on an example that $f_c(x) = \\sum \\omega_i x_i  + b$"
      ]
    },
    {
      "cell_type": "code",
      "execution_count": 6,
      "id": "cf22a4d2",
      "metadata": {
        "colab": {
          "base_uri": "https://localhost:8080/"
        },
        "deletable": false,
        "id": "cf22a4d2",
        "nbgrader": {
          "cell_type": "code",
          "checksum": "5f61797496e6ebc3f98ba5ea49e10e07",
          "grade": false,
          "grade_id": "exercise-1",
          "locked": false,
          "schema_version": 3,
          "solution": true,
          "task": false
        },
        "outputId": "32e0a674-efab-4f42-d6b4-39cdf8c6ec1d",
        "tags": []
      },
      "outputs": [
        {
          "output_type": "execute_result",
          "data": {
            "text/plain": [
              "tensor([True])"
            ]
          },
          "metadata": {},
          "execution_count": 6
        }
      ],
      "source": [
        "# YOUR CODE HERE\n",
        "input = torch.tensor((-1.5, -8.))\n",
        "result = fc(input)\n",
        "act_res = np.dot(input,weights)+bias\n",
        "result == act_res\n",
        "#raise NotImplementedError()"
      ]
    },
    {
      "cell_type": "markdown",
      "id": "70518cbf",
      "metadata": {
        "id": "70518cbf"
      },
      "source": [
        "To complete the definition of the perceptron, a decision rule is needed. This rule is natural: for $f(x; \\omega, b) = (p_0, p_1)$, we choose class 0 if $p_0 > p_1$.\n",
        "\n",
        "We can plot the boundary that delimits the model's decision regions.\n",
        "\n",
        "**Exercise 2:**\n",
        "- Provide its equation in the form $x_1 = \\alpha x_0 + \\beta$ where $\\alpha$ and $\\beta$ depend on $\\omega$ and $b$.\n",
        "- Complete the code below to plot it:"
      ]
    },
    {
      "cell_type": "code",
      "execution_count": 7,
      "id": "6c2446c6",
      "metadata": {
        "colab": {
          "base_uri": "https://localhost:8080/",
          "height": 452
        },
        "deletable": false,
        "id": "6c2446c6",
        "nbgrader": {
          "cell_type": "code",
          "checksum": "7f1ca095ac2551b73a3153c32ea2ff07",
          "grade": false,
          "grade_id": "exercise-2",
          "locked": false,
          "schema_version": 3,
          "solution": true,
          "task": false
        },
        "outputId": "230e7452-2e88-4572-bfea-0d37640e98c7",
        "tags": []
      },
      "outputs": [
        {
          "output_type": "execute_result",
          "data": {
            "text/plain": [
              "<Figure size 640x480 with 1 Axes>"
            ],
            "image/png": "[encoded data removed]"
          },
          "metadata": {},
          "execution_count": 7
        }
      ],
      "source": [
        "def traceFrontiere(weights, bias, ax, interval=[-10, 10], color='black'):\n",
        "    x0 = np.arange(interval[0], interval[1], 0.01)\n",
        "    x1 =(-weights[0]/weights[1])*x0+(-bias/weights[1])\n",
        "    # YOUR CODE HERE\n",
        "    ax.plot(x0, x1, color=color)\n",
        "\n",
        "traceFrontiere(weights.numpy(), bias.numpy(), ax)\n",
        "\n",
        "fig"
      ]
    },
    {
      "cell_type": "markdown",
      "id": "b81542b9",
      "metadata": {
        "id": "b81542b9"
      },
      "source": [
        "To train the perceptron to correctly separate the classes, we will use stochastic gradient descent with mini-batches. For this, we need to present the model with (*input*, *target*) pairs in a **random** order. In PyTorch, this selection is done using two objects:\n",
        "- A *Dataset* class\n",
        "- A *Dataloader* class"
      ]
    },
    {
      "cell_type": "markdown",
      "id": "923d8715",
      "metadata": {
        "id": "923d8715"
      },
      "source": [
        "A PyTorch Dataset contains a method for accessing data. The following class provides a rudimentary example. Later on, we will integrate data loading, normalization, and data augmentation steps into our datasets:"
      ]
    },
    {
      "cell_type": "code",
      "execution_count": 8,
      "id": "00f26701",
      "metadata": {
        "id": "00f26701"
      },
      "outputs": [],
      "source": [
        "from torch.utils.data import Dataset, DataLoader\n",
        "class FirstDataset(Dataset):\n",
        "    def __init__(self, inputs, targets):\n",
        "        self.inputs = inputs\n",
        "        self.targets = targets\n",
        "\n",
        "    def __len__(self):\n",
        "        return self.targets.shape[0]\n",
        "\n",
        "    def __getitem__(self, idx):  # idx is an index called by the loader\n",
        "        x = self.inputs[idx, :]\n",
        "        t = self.targets[idx]\n",
        "        return x, t  # (input, target) pair\n",
        "\n",
        "inputs_train = torch.cat(echs, dim=0)\n",
        "targets_train = torch.cat((torch.zeros(n), torch.ones(n)), dim=0).long()\n",
        "ds1 = FirstDataset(inputs_train, targets_train)"
      ]
    },
    {
      "cell_type": "markdown",
      "id": "96e95810",
      "metadata": {
        "id": "96e95810"
      },
      "source": [
        "A **loader** is a Python iterable (like lists, dictionaries, etc.) that we parameterize by batch size and data selection method (with or without replacement, weighting, etc). In particular, with the shuffle = True option, the data is reshuffled at every epoch and num_workers represents how many subprocesses to use for data loading, 0 means that the data will be loaded in the main process (generally interesting to anticipate data loading, to speed up training):"
      ]
    },
    {
      "cell_type": "code",
      "execution_count": 9,
      "id": "6fee1e46",
      "metadata": {
        "id": "6fee1e46"
      },
      "outputs": [],
      "source": [
        "loader1 = DataLoader(ds1, batch_size=10, shuffle=True,num_workers=0)"
      ]
    },
    {
      "cell_type": "markdown",
      "id": "14640f6a",
      "metadata": {
        "id": "14640f6a"
      },
      "source": [
        "In the following figure, we represent a first randomly drawn batch of points. Each time the window is executed, a new batch of points is drawn until exhaustion:"
      ]
    },
    {
      "cell_type": "code",
      "execution_count": 11,
      "id": "ebbf4375",
      "metadata": {
        "colab": {
          "base_uri": "https://localhost:8080/",
          "height": 453
        },
        "id": "ebbf4375",
        "outputId": "023f22fa-a060-4006-c0cb-14008fe57962"
      },
      "outputs": [
        {
          "output_type": "execute_result",
          "data": {
            "text/plain": [
              "<matplotlib.collections.PathCollection at 0x7fefe8c24700>"
            ]
          },
          "metadata": {},
          "execution_count": 11
        },
        {
          "output_type": "display_data",
          "data": {
            "text/plain": [
              "<Figure size 640x480 with 1 Axes>"
            ],
            "image/png": "[encoded data removed]"
          },
          "metadata": {}
        }
      ],
      "source": [
        "fig2 = plt.figure()\n",
        "ax2 = fig2.add_subplot(111)\n",
        "ax2.axis([-3, 3, -3, 3])\n",
        "\n",
        "# Drawing a batch of ten points\n",
        "inputs, targets = next(iter(loader1))\n",
        "x, y = inputs.numpy()[:, 0], inputs.numpy()[:, 1]\n",
        "cs = [colors[targets[i]] for i in range(len(targets))]\n",
        "ax2.scatter(x, y, color=cs)"
      ]
    },
    {
      "cell_type": "code",
      "execution_count": 32,
      "id": "5e3051a2",
      "metadata": {
        "colab": {
          "base_uri": "https://localhost:8080/",
          "height": 435
        },
        "id": "5e3051a2",
        "outputId": "49f23607-3a1e-4723-8dc6-aa2d53063551"
      },
      "outputs": [
        {
          "output_type": "execute_result",
          "data": {
            "text/plain": [
              "<Figure size 640x480 with 1 Axes>"
            ],
            "image/png": "[encoded data removed]"
          },
          "metadata": {},
          "execution_count": 32
        }
      ],
      "source": [
        "# Iterating over the dataset\n",
        "inputs, targets = next(iter(loader1))\n",
        "x, y = inputs.numpy()[:, 0], inputs.numpy()[:, 1]\n",
        "cs = [colors[targets[i]] for i in range(len(targets))]\n",
        "ax2.scatter(x, y, color=cs)\n",
        "fig2"
      ]
    },
    {
      "cell_type": "markdown",
      "id": "4a2dcbbb",
      "metadata": {
        "id": "4a2dcbbb"
      },
      "source": [
        "For each available batch, we calculate the model's error using a loss function. This loss function penalizes the differences between the network's outputs (here, pairs $(p_0, p_1)$) and the ground truth (here, a class $c \\in \\{ 0 ; 1 \\}$).\n",
        "\n",
        "In classification, we generally use the negative log likelihood. For a batch point, it is defined as:\n",
        "\n",
        "$\\mathcal{L}((p_0, p_1), c) = - ln(p_c)$\n",
        "\n",
        "This quantity is averaged over each batch:"
      ]
    },
    {
      "cell_type": "code",
      "execution_count": 34,
      "id": "3f24c290",
      "metadata": {
        "id": "3f24c290"
      },
      "outputs": [],
      "source": [
        "def loss_fn(outputs, targets, show=False):\n",
        "    # all -log(p)\n",
        "    outputs = -torch.log(outputs)\n",
        "    # all -log(pc)\n",
        "    tensor_of_losses = torch.gather(outputs, 1, targets.unsqueeze(dim=1))\n",
        "    # average of -log(pc)\n",
        "    loss = tensor_of_losses.mean()\n",
        "\n",
        "    if show:\n",
        "        print(outputs)\n",
        "        print(targets)\n",
        "        print(tensor_of_losses)\n",
        "\n",
        "    return loss"
      ]
    },
    {
      "cell_type": "markdown",
      "id": "6d7ca365",
      "metadata": {
        "id": "6d7ca365"
      },
      "source": [
        "Example:"
      ]
    },
    {
      "cell_type": "code",
      "execution_count": 35,
      "id": "2b7a632e",
      "metadata": {
        "colab": {
          "base_uri": "https://localhost:8080/"
        },
        "id": "2b7a632e",
        "outputId": "c2ddf165-68c4-47fe-d01d-9936a8a23690"
      },
      "outputs": [
        {
          "output_type": "stream",
          "name": "stdout",
          "text": [
            "tensor([[1.4007, 0.2829],\n",
            "        [2.0692, 0.1350],\n",
            "        [1.7298, 0.1952],\n",
            "        [1.8295, 0.1749],\n",
            "        [1.5098, 0.2497],\n",
            "        [0.8739, 0.5401],\n",
            "        [1.9747, 0.1494],\n",
            "        [0.9021, 0.5204],\n",
            "        [1.4558, 0.2655],\n",
            "        [1.2068, 0.3555]], grad_fn=<NegBackward0>)\n",
            "tensor([0, 0, 0, 0, 0, 1, 0, 1, 1, 0])\n",
            "tensor([[1.4007],\n",
            "        [2.0692],\n",
            "        [1.7298],\n",
            "        [1.8295],\n",
            "        [1.5098],\n",
            "        [0.5401],\n",
            "        [1.9747],\n",
            "        [0.5204],\n",
            "        [0.2655],\n",
            "        [1.2068]], grad_fn=<GatherBackward0>)\n",
            "tensor(1.3047, grad_fn=<MeanBackward0>)\n"
          ]
        }
      ],
      "source": [
        "inputs, targets = next(iter(loader1))\n",
        "l = loss_fn(model(inputs), targets, show=True)\n",
        "\n",
        "print(l)"
      ]
    },
    {
      "cell_type": "markdown",
      "id": "409c9f11",
      "metadata": {
        "id": "409c9f11"
      },
      "source": [
        "For each batch, we calculate the derivatives $\\dfrac{\\partial \\mathcal{L_{batch}}}{\\partial{\\omega_i}}$ where $\\mathcal{L_{batch}}$ is the average of the cost function over the batch.\n",
        "\n",
        "PyTorch keeps track of each operation performed with the weights so that it can apply the usual rules of derivation. This calculation is launched with the *.backward* method. The derivatives are stored with the weights and can be accessed with *.grad*:"
      ]
    },
    {
      "cell_type": "code",
      "execution_count": 36,
      "id": "021822c0",
      "metadata": {
        "colab": {
          "base_uri": "https://localhost:8080/"
        },
        "id": "021822c0",
        "outputId": "93d3e85a-3afe-4507-bd66-ffaf44aefe71"
      },
      "outputs": [
        {
          "output_type": "stream",
          "name": "stdout",
          "text": [
            "before backward:None\n",
            "after backward:tensor([[0.5638, 0.7504]])\n"
          ]
        }
      ],
      "source": [
        "w = model.fc.weight  # [0,0]\n",
        "print('before backward:' + str(w.grad))\n",
        "\n",
        "l.backward()\n",
        "\n",
        "print('after backward:' + str(w.grad))"
      ]
    },
    {
      "cell_type": "markdown",
      "id": "85922688",
      "metadata": {
        "id": "85922688"
      },
      "source": [
        "Last step: updating the weights. For this, many methods are available. We specify the chosen method through the PyTorch \"optimizer\" object. The simplest is written:\n",
        "\n",
        "$w_i := w_i - lr \\times \\dfrac{\\partial \\mathcal{L_{batch}}}{\\partial{\\omega_i}}$  (2)\n",
        "\n",
        "The learning rate ($lr$) controls the amplitude of the increments:"
      ]
    },
    {
      "cell_type": "code",
      "execution_count": 37,
      "id": "b612c9d9",
      "metadata": {
        "id": "b612c9d9"
      },
      "outputs": [],
      "source": [
        "lr = 0.1\n",
        "\n",
        "# Two commonly used descent methods:\n",
        "optimizer = torch.optim.SGD(model.parameters(), lr=lr)  # corresponds to equation (2)\n",
        "# optimizer = torch.optim.Adam(model.parameters(), lr=lr)"
      ]
    },
    {
      "cell_type": "markdown",
      "id": "cf9a65cc",
      "metadata": {
        "id": "cf9a65cc"
      },
      "source": [
        "In the next cell, we train the perceptron. With each new execution, the dataset is traversed twice (two \"epochs\"):"
      ]
    },
    {
      "cell_type": "code",
      "execution_count": 38,
      "id": "5756d65f",
      "metadata": {
        "colab": {
          "base_uri": "https://localhost:8080/",
          "height": 1000
        },
        "id": "5756d65f",
        "outputId": "089d5d06-759b-42e6-a560-9e76a049b08e"
      },
      "outputs": [
        {
          "output_type": "stream",
          "name": "stdout",
          "text": [
            "0\n",
            "1\n",
            "2\n",
            "3\n",
            "4\n",
            "5\n",
            "6\n",
            "7\n",
            "8\n",
            "9\n",
            "10\n",
            "11\n",
            "12\n",
            "13\n",
            "14\n",
            "15\n",
            "16\n",
            "17\n",
            "18\n",
            "19\n",
            "20\n",
            "21\n",
            "22\n",
            "23\n",
            "24\n",
            "25\n",
            "26\n",
            "27\n",
            "28\n",
            "29\n",
            "30\n",
            "31\n",
            "32\n",
            "33\n",
            "34\n",
            "35\n",
            "36\n",
            "37\n",
            "38\n",
            "39\n",
            "40\n",
            "41\n",
            "42\n",
            "43\n",
            "44\n",
            "45\n",
            "46\n",
            "47\n",
            "48\n",
            "49\n",
            "50\n",
            "51\n",
            "52\n",
            "53\n",
            "54\n",
            "55\n",
            "56\n",
            "57\n",
            "58\n",
            "59\n",
            "60\n",
            "61\n",
            "62\n",
            "63\n",
            "64\n",
            "65\n",
            "66\n",
            "67\n",
            "68\n",
            "69\n",
            "70\n",
            "71\n",
            "72\n",
            "73\n",
            "74\n",
            "75\n",
            "76\n",
            "77\n",
            "78\n",
            "79\n",
            "80\n",
            "81\n",
            "82\n",
            "83\n",
            "84\n",
            "85\n",
            "86\n",
            "87\n",
            "88\n",
            "89\n",
            "90\n",
            "91\n",
            "92\n",
            "93\n",
            "94\n",
            "95\n",
            "96\n",
            "97\n",
            "98\n",
            "99\n"
          ]
        },
        {
          "output_type": "execute_result",
          "data": {
            "text/plain": [
              "<Figure size 640x480 with 1 Axes>"
            ],
            "image/png": "[encoded data removed]"
          },
          "metadata": {},
          "execution_count": 38
        }
      ],
      "source": [
        "for epoch in range(100):\n",
        "    print(epoch)\n",
        "    # random traversal of the dataset\n",
        "    for x, targets in loader1:\n",
        "        # zeroing gradients\n",
        "        optimizer.zero_grad()\n",
        "        # calculation of (p0, p1)\n",
        "        output = model(x)\n",
        "        # calculation of the error\n",
        "        l = loss_fn(output, targets)\n",
        "        # calculation of gradients\n",
        "        l.backward()\n",
        "        # weight update\n",
        "        optimizer.step()\n",
        "\n",
        "    # Plotting the hyperplane\n",
        "    fc = model.fc\n",
        "    weights = fc.weight.data.squeeze(dim=0)\n",
        "    bias = fc.bias.data\n",
        "    traceFrontiere(weights.numpy(), bias.numpy(), ax)\n",
        "\n",
        "fig"
      ]
    },
    {
      "cell_type": "markdown",
      "id": "3f458025",
      "metadata": {
        "id": "3f458025"
      },
      "source": [
        "**Exercise 3-1**: Complete the following code to plot the gradients in the $\\omega_0, \\omega_1$ weight space:"
      ]
    },
    {
      "cell_type": "code",
      "source": [
        "fig3 = plt.figure()\n",
        "ax3 = fig3.add_subplot(111)\n",
        "ax3.axis([-10, 10, -10, 10])\n",
        "\n",
        "x_values = [1.0, 2.0, -1.5]\n",
        "y_values = [2.0, -1.0, 0.5]\n",
        "\n",
        "# # Plotting blue circles for data points\n",
        "# ax3.scatter(x_values, y_values, c='b', marker='o', label='Class 0')\n",
        "\n",
        "# # Assuming other_x_values and other_y_values are lists or arrays containing different coordinates\n",
        "# other_x_values = [-2.0, 0.0, 1.5]\n",
        "# other_y_values = [0.0, 1.5, -0.5]\n",
        "\n",
        "# # Plotting green crosses for other data points\n",
        "# ax3.scatter(other_x_values, other_y_values, c='g', marker='x', label='Class 1')\n",
        "# Draw an arrow starting from (0, 0) and ending at (1, 1)\n",
        "ax3.arrow(0, 0, 1, 1, color='red', linewidth=2, head_width=0.1, head_length=0.1)\n",
        "\n",
        "# Draw another arrow starting from (2, -1) and ending at (-1, 2)\n",
        "ax3.arrow(0, 0, 0, -1, color='blue', linewidth=2, head_width=0.1, head_length=0.1)\n",
        "\n",
        "# Customize the appearance of the arrows using **kwargs\n",
        "ax3.arrow(0, 0, -5, 2, color='green', linewidth=2, head_width=0.2, head_length=0.2, linestyle='dotted')\n",
        "\n",
        "\n",
        "# Adding labels to the axes and legend\n",
        "ax3.set_xlabel('X-Axis Label')\n",
        "ax3.set_ylabel('Y-Axis Label')\n",
        "ax3.legend()\n",
        "\n",
        "\n"
      ],
      "metadata": {
        "id": "Z4D51OFto2Ea",
        "outputId": "775f5b4b-68fb-4609-b345-843cf8982007",
        "colab": {
          "base_uri": "https://localhost:8080/",
          "height": 492
        }
      },
      "id": "Z4D51OFto2Ea",
      "execution_count": 51,
      "outputs": [
        {
          "output_type": "stream",
          "name": "stderr",
          "text": [
            "WARNING:matplotlib.legend:No artists with labels found to put in legend.  Note that artists whose label start with an underscore are ignored when legend() is called with no argument.\n"
          ]
        },
        {
          "output_type": "execute_result",
          "data": {
            "text/plain": [
              "<matplotlib.legend.Legend at 0x7fefe6a6b4c0>"
            ]
          },
          "metadata": {},
          "execution_count": 51
        },
        {
          "output_type": "display_data",
          "data": {
            "text/plain": [
              "<Figure size 640x480 with 1 Axes>"
            ],
            "image/png": "[encoded data removed]"
          },
          "metadata": {}
        }
      ]
    },
    {
      "cell_type": "code",
      "source": [],
      "metadata": {
        "id": "0TGdnIw-n1UR",
        "outputId": "376e6d01-1081-4fbd-fe72-2e10efb26b18",
        "colab": {
          "base_uri": "https://localhost:8080/"
        }
      },
      "id": "0TGdnIw-n1UR",
      "execution_count": 41,
      "outputs": [
        {
          "output_type": "stream",
          "name": "stdout",
          "text": [
            "tensor([-0.1000,  0.5000])\n"
          ]
        }
      ]
    },
    {
      "cell_type": "code",
      "execution_count": 55,
      "id": "c7c3b29e",
      "metadata": {
        "deletable": false,
        "id": "c7c3b29e",
        "nbgrader": {
          "cell_type": "code",
          "checksum": "1ee62aef14a34c3e87c4ddd0f5a6d03d",
          "grade": false,
          "grade_id": "exercise-3-1",
          "locked": false,
          "schema_version": 3,
          "solution": true,
          "task": false
        },
        "tags": [],
        "outputId": "31f66042-1331-4281-f03b-77ccbc2eb124",
        "colab": {
          "base_uri": "https://localhost:8080/",
          "height": 453
        }
      },
      "outputs": [
        {
          "output_type": "stream",
          "name": "stdout",
          "text": [
            "tensor([-0.1000,  0.5000])\n"
          ]
        },
        {
          "output_type": "display_data",
          "data": {
            "text/plain": [
              "<Figure size 640x480 with 1 Axes>"
            ],
            "image/png": "[encoded data removed]"
          },
          "metadata": {}
        }
      ],
      "source": [
        "# Initialization of weights:\n",
        "model.fc.weight[0, 0].data.fill_(-0.1)\n",
        "model.fc.weight[0, 1].data.fill_(0.5)\n",
        "model.fc.bias.data.fill_(-1)\n",
        "\n",
        "print(model.fc.weight.data.squeeze(dim=0))\n",
        "fig3 = plt.figure()\n",
        "ax3 = fig3.add_subplot(111)\n",
        "ax3.axis([-1.5, 0, -1, 0.6])\n",
        "\n",
        "loader1 = DataLoader(ds1, batch_size=10, shuffle=True)\n",
        "lr = 0.5\n",
        "optimizer = torch.optim.SGD(model.parameters(), lr=lr)\n",
        "\n",
        "for epoch in range(25):\n",
        "    for x, label in loader1:\n",
        "        optimizer.zero_grad()\n",
        "        output = model(x)\n",
        "        l = loss_fn(output, label)\n",
        "        l.backward()\n",
        "\n",
        "        # plotting vectors:\n",
        "        weights = model.fc.weight.data.squeeze(dim=0)\n",
        "        # YOUR CODE HERE\n",
        "        # raise NotImplementedError()\n",
        "\n",
        "        ax3.scatter(weights[0],weights[1])\n",
        "        ax3.arrow(weights[0],weights[1], model.fc.weight.grad[0,0], model.fc.weight.grad[0,1])\n",
        "        # YOUR CODE HERE\n",
        "        optimizer.step()"
      ]
    },
    {
      "cell_type": "markdown",
      "id": "757b7141",
      "metadata": {
        "id": "757b7141"
      },
      "source": [
        "**Exercise 3-2:** Determine the accuracy of the classifier on the training set."
      ]
    },
    {
      "cell_type": "code",
      "source": [
        "model.eval()\n"
      ],
      "metadata": {
        "id": "Je1tiAC6vc6h",
        "outputId": "2c4bb4eb-fc0a-4ea7-d5c0-67f01011fe95",
        "colab": {
          "base_uri": "https://localhost:8080/"
        }
      },
      "id": "Je1tiAC6vc6h",
      "execution_count": 56,
      "outputs": [
        {
          "output_type": "execute_result",
          "data": {
            "text/plain": [
              "P1(\n",
              "  (fc): Linear(in_features=2, out_features=1, bias=True)\n",
              ")"
            ]
          },
          "metadata": {},
          "execution_count": 56
        }
      ]
    },
    {
      "cell_type": "code",
      "source": [
        "for x, labels in loader1:\n",
        "  print(x)\n",
        "  print(label)\n",
        "  print('*****************')"
      ],
      "metadata": {
        "id": "YeystZv4x3MI",
        "outputId": "50017ea2-fc00-4df6-e485-0dcb745bd1a9",
        "colab": {
          "base_uri": "https://localhost:8080/"
        }
      },
      "id": "YeystZv4x3MI",
      "execution_count": 65,
      "outputs": [
        {
          "output_type": "stream",
          "name": "stdout",
          "text": [
            "tensor([[-1.0555, -0.8536],\n",
            "        [ 0.8225,  1.3429],\n",
            "        [ 0.9714,  2.1000],\n",
            "        [-1.4899, -1.8045],\n",
            "        [ 1.1719,  1.1859],\n",
            "        [ 2.1678,  0.6890],\n",
            "        [ 0.4030,  0.7540],\n",
            "        [-1.3485, -1.5804],\n",
            "        [ 0.4872,  1.2606],\n",
            "        [-0.6896,  1.4866]])\n",
            "tensor([0, 0, 1, 1, 1, 1, 1, 0, 1, 1])\n",
            "*****************\n",
            "tensor([[-0.9491, -0.8300],\n",
            "        [ 0.2513,  0.5488],\n",
            "        [-1.3270, -0.6342],\n",
            "        [ 0.8469,  0.7899],\n",
            "        [ 1.1414,  1.1821],\n",
            "        [-1.5242, -1.2354],\n",
            "        [ 0.5249,  0.8452],\n",
            "        [-1.4638, -0.4440],\n",
            "        [ 0.9520,  0.3360],\n",
            "        [-1.0930, -1.3223]])\n",
            "tensor([0, 0, 1, 1, 1, 1, 1, 0, 1, 1])\n",
            "*****************\n",
            "tensor([[ 0.6336,  0.5416],\n",
            "        [-0.7912, -1.1064],\n",
            "        [-1.2178, -1.2981],\n",
            "        [-0.8858, -0.7662],\n",
            "        [ 1.5270,  1.0658],\n",
            "        [-1.3546, -1.2631],\n",
            "        [ 0.9613,  0.6979],\n",
            "        [-0.7635, -1.2143],\n",
            "        [-0.3571, -0.5916],\n",
            "        [ 0.4102,  0.2788]])\n",
            "tensor([0, 0, 1, 1, 1, 1, 1, 0, 1, 1])\n",
            "*****************\n",
            "tensor([[ 0.8861,  0.5662],\n",
            "        [ 0.8119, -0.2053],\n",
            "        [ 1.1666,  1.5540],\n",
            "        [-0.8973, -0.8474],\n",
            "        [ 1.8317,  1.2525],\n",
            "        [ 0.5654,  1.4434],\n",
            "        [ 1.0506,  1.0976],\n",
            "        [-0.8022, -1.4911],\n",
            "        [-2.1228, -1.7232],\n",
            "        [ 1.0928,  0.8618]])\n",
            "tensor([0, 0, 1, 1, 1, 1, 1, 0, 1, 1])\n",
            "*****************\n",
            "tensor([[ 1.0201,  1.2323],\n",
            "        [-0.9211, -1.3867],\n",
            "        [ 0.9060,  1.5163],\n",
            "        [ 0.9526, -0.1572],\n",
            "        [ 1.1841,  1.2425],\n",
            "        [-0.9235, -1.2378],\n",
            "        [ 0.8962,  0.3055],\n",
            "        [ 0.9409,  0.2790],\n",
            "        [-1.6816, -1.4916],\n",
            "        [-0.0086,  1.2118]])\n",
            "tensor([0, 0, 1, 1, 1, 1, 1, 0, 1, 1])\n",
            "*****************\n",
            "tensor([[ 1.1931,  1.5237],\n",
            "        [-0.3324, -0.6979],\n",
            "        [ 0.8205,  1.2397],\n",
            "        [ 1.2152,  1.1688],\n",
            "        [-1.5521, -1.3497],\n",
            "        [ 1.0718,  1.1015],\n",
            "        [ 1.0897,  1.0723],\n",
            "        [ 0.7724,  1.1593],\n",
            "        [ 1.1468,  0.7930],\n",
            "        [-1.7628, -1.3751]])\n",
            "tensor([0, 0, 1, 1, 1, 1, 1, 0, 1, 1])\n",
            "*****************\n",
            "tensor([[-1.3120, -1.4886],\n",
            "        [-0.5782, -0.4171],\n",
            "        [ 1.5831,  1.7393],\n",
            "        [-0.1457, -0.6044],\n",
            "        [ 1.8999,  1.1412],\n",
            "        [-1.3532,  0.2785],\n",
            "        [-0.5631, -1.2801],\n",
            "        [-0.6438, -1.8883],\n",
            "        [-0.2304, -1.4348],\n",
            "        [-0.4174,  0.0077]])\n",
            "tensor([0, 0, 1, 1, 1, 1, 1, 0, 1, 1])\n",
            "*****************\n",
            "tensor([[-0.9005, -0.9771],\n",
            "        [-0.6826, -1.4022],\n",
            "        [ 1.3039,  0.9708],\n",
            "        [-0.1433, -1.8971],\n",
            "        [-1.1053, -1.0038],\n",
            "        [-1.3270, -1.8047],\n",
            "        [-1.3887, -1.1257],\n",
            "        [ 0.9647,  1.1735],\n",
            "        [ 1.8644,  0.5033],\n",
            "        [ 0.6049,  0.7085]])\n",
            "tensor([0, 0, 1, 1, 1, 1, 1, 0, 1, 1])\n",
            "*****************\n",
            "tensor([[-0.9694, -1.3089],\n",
            "        [-1.0818, -1.1791],\n",
            "        [ 0.5957,  1.0634],\n",
            "        [ 1.5204,  1.0403],\n",
            "        [ 0.7362,  1.0424],\n",
            "        [ 1.0374,  1.1766],\n",
            "        [-0.1270, -0.0725],\n",
            "        [-0.9142, -1.0800],\n",
            "        [ 0.5715,  1.7926],\n",
            "        [ 1.2783,  1.2528]])\n",
            "tensor([0, 0, 1, 1, 1, 1, 1, 0, 1, 1])\n",
            "*****************\n",
            "tensor([[-0.7365, -0.1904],\n",
            "        [-1.8056, -1.9358],\n",
            "        [-1.0067, -0.0697],\n",
            "        [-1.2017, -1.4796],\n",
            "        [ 2.3207,  0.5188],\n",
            "        [-0.2126, -1.3149],\n",
            "        [-1.2305, -1.2800],\n",
            "        [-0.6187, -0.7792],\n",
            "        [-0.9313, -0.5307],\n",
            "        [-0.2444, -0.6791]])\n",
            "tensor([0, 0, 1, 1, 1, 1, 1, 0, 1, 1])\n",
            "*****************\n",
            "tensor([[-1.0128, -1.5117],\n",
            "        [-1.0789, -1.0144],\n",
            "        [ 1.0691,  1.5367],\n",
            "        [ 0.2239,  0.6755],\n",
            "        [-0.8727, -1.2510],\n",
            "        [-1.3520, -1.0926],\n",
            "        [-0.0603, -1.0361],\n",
            "        [ 1.2822,  0.5613],\n",
            "        [ 1.2684,  1.4902],\n",
            "        [ 1.1338,  1.3781]])\n",
            "tensor([0, 0, 1, 1, 1, 1, 1, 0, 1, 1])\n",
            "*****************\n",
            "tensor([[ 0.1476, -0.6625],\n",
            "        [-1.4820, -0.9292],\n",
            "        [ 1.6265,  0.9743],\n",
            "        [-0.3074, -1.4069],\n",
            "        [ 1.3386,  1.3404],\n",
            "        [-0.4492, -1.0880],\n",
            "        [-0.6693, -0.4050],\n",
            "        [-2.0015, -1.2457],\n",
            "        [ 0.6235,  0.7840],\n",
            "        [ 0.3894,  0.6624]])\n",
            "tensor([0, 0, 1, 1, 1, 1, 1, 0, 1, 1])\n",
            "*****************\n",
            "tensor([[ 0.8091,  1.2163],\n",
            "        [-1.7391, -1.5667],\n",
            "        [-0.7210, -1.4529],\n",
            "        [-1.7172, -1.2504],\n",
            "        [ 0.4704,  0.6860],\n",
            "        [ 1.0722,  1.3886],\n",
            "        [-0.8544, -0.0046],\n",
            "        [-1.0517, -1.0756],\n",
            "        [-1.3315, -0.5963],\n",
            "        [ 0.7690,  0.8157]])\n",
            "tensor([0, 0, 1, 1, 1, 1, 1, 0, 1, 1])\n",
            "*****************\n",
            "tensor([[ 0.7031,  0.8470],\n",
            "        [ 0.1786, -1.5187],\n",
            "        [-1.2532, -0.9501],\n",
            "        [-0.4885, -0.5080],\n",
            "        [ 0.5869,  0.8890],\n",
            "        [ 1.8302,  1.1359],\n",
            "        [ 1.0973,  0.5291],\n",
            "        [ 0.3611,  0.9686],\n",
            "        [ 0.8757,  0.7640],\n",
            "        [-1.3990, -1.0658]])\n",
            "tensor([0, 0, 1, 1, 1, 1, 1, 0, 1, 1])\n",
            "*****************\n",
            "tensor([[ 0.0963,  1.1713],\n",
            "        [ 0.1598,  1.6649],\n",
            "        [ 1.2968,  1.1657],\n",
            "        [-1.4637, -0.7274],\n",
            "        [-0.3974, -1.9078],\n",
            "        [-0.8654, -0.3376],\n",
            "        [ 1.3347,  1.3253],\n",
            "        [-0.5917, -1.4568],\n",
            "        [-0.5626, -0.5064],\n",
            "        [ 1.2000,  2.2211]])\n",
            "tensor([0, 0, 1, 1, 1, 1, 1, 0, 1, 1])\n",
            "*****************\n",
            "tensor([[-0.6502, -0.9005],\n",
            "        [-1.0026, -1.0394],\n",
            "        [ 0.8654,  1.6560],\n",
            "        [-2.0510, -1.3100],\n",
            "        [ 1.5085,  1.4651],\n",
            "        [ 0.9831,  0.7302],\n",
            "        [-1.1111, -0.1564],\n",
            "        [-1.2981, -1.5028],\n",
            "        [ 0.8962,  1.3468],\n",
            "        [ 1.2097,  2.1262]])\n",
            "tensor([0, 0, 1, 1, 1, 1, 1, 0, 1, 1])\n",
            "*****************\n",
            "tensor([[-0.8231, -0.4002],\n",
            "        [-1.3561, -0.8481],\n",
            "        [ 0.8998,  0.5812],\n",
            "        [-0.5672, -0.8778],\n",
            "        [ 0.2241,  0.9712],\n",
            "        [ 0.6732,  1.7793],\n",
            "        [-0.7409, -0.9467],\n",
            "        [-0.1691,  0.5854],\n",
            "        [-2.6656, -1.3739],\n",
            "        [-1.0501, -1.3046]])\n",
            "tensor([0, 0, 1, 1, 1, 1, 1, 0, 1, 1])\n",
            "*****************\n",
            "tensor([[ 0.5540,  0.6235],\n",
            "        [ 0.1025,  1.3650],\n",
            "        [ 0.8281,  0.6914],\n",
            "        [ 0.7063, -0.0310],\n",
            "        [ 1.8982,  0.7613],\n",
            "        [ 0.2791, -1.1167],\n",
            "        [-1.4981, -1.4156],\n",
            "        [-0.9669, -1.2185],\n",
            "        [-0.7243, -1.7737],\n",
            "        [-1.4200, -1.2100]])\n",
            "tensor([0, 0, 1, 1, 1, 1, 1, 0, 1, 1])\n",
            "*****************\n",
            "tensor([[ 1.2865,  0.1019],\n",
            "        [-0.7285, -0.6697],\n",
            "        [-1.9902, -0.1007],\n",
            "        [-0.1633, -0.9948],\n",
            "        [ 1.2853,  0.9326],\n",
            "        [ 0.7735,  0.9370],\n",
            "        [-0.1532,  1.3018],\n",
            "        [ 0.5832,  0.4036],\n",
            "        [-1.5206, -0.6339],\n",
            "        [-0.8452, -0.2397]])\n",
            "tensor([0, 0, 1, 1, 1, 1, 1, 0, 1, 1])\n",
            "*****************\n",
            "tensor([[-1.1515, -1.8809],\n",
            "        [ 1.7137,  0.9088],\n",
            "        [-1.5996, -1.0237],\n",
            "        [ 1.3903, -0.1025],\n",
            "        [ 1.4632,  1.4567],\n",
            "        [ 2.1394,  1.2354],\n",
            "        [-0.7322, -1.2156],\n",
            "        [ 0.7836,  0.9425],\n",
            "        [ 1.0063,  0.0633],\n",
            "        [ 1.1699,  0.4253]])\n",
            "tensor([0, 0, 1, 1, 1, 1, 1, 0, 1, 1])\n",
            "*****************\n"
          ]
        }
      ]
    },
    {
      "cell_type": "code",
      "source": [
        "vector = torch.tensor([[1,2,3,4,5,6]])\n",
        "_, predicted = torch.max(vector, 1)\n",
        "predicted"
      ],
      "metadata": {
        "id": "e3nC8u6uxG4J",
        "outputId": "60007278-5eff-419d-975a-e1aef1620bf3",
        "colab": {
          "base_uri": "https://localhost:8080/"
        }
      },
      "id": "e3nC8u6uxG4J",
      "execution_count": 63,
      "outputs": [
        {
          "output_type": "execute_result",
          "data": {
            "text/plain": [
              "tensor([5])"
            ]
          },
          "metadata": {},
          "execution_count": 63
        }
      ]
    },
    {
      "cell_type": "code",
      "source": [
        "correct_predictions = 0\n",
        "total_samples = 0\n",
        "\n",
        "for x, labels in loader1:\n",
        "    # Forward pass\n",
        "    with torch.no_grad():  # No need to track gradients during inference\n",
        "        outputs = model(x)\n",
        "\n",
        "    # Get the predicted labels (class with the maximum probability)\n",
        "    _, predicted = torch.max(outputs, 1)\n",
        "\n",
        "    # Update counts\n",
        "    correct_predictions += (predicted == labels).sum().item()\n",
        "    total_samples += labels.size(0)\n",
        "\n",
        "# Calculate accuracy\n",
        "accuracy = (correct_predictions / total_samples) * 100.0\n",
        "print(f'Accuracy on the training set: {accuracy:.2f}%')"
      ],
      "metadata": {
        "id": "A0fhsNl7vloZ",
        "outputId": "fa84b503-bfc5-4fd7-ca15-f1f631e1ce64",
        "colab": {
          "base_uri": "https://localhost:8080/"
        }
      },
      "id": "A0fhsNl7vloZ",
      "execution_count": 58,
      "outputs": [
        {
          "output_type": "stream",
          "name": "stdout",
          "text": [
            "Accuracy on the training set: 100.00%\n"
          ]
        }
      ]
    },
    {
      "cell_type": "markdown",
      "id": "c9216817",
      "metadata": {
        "id": "c9216817"
      },
      "source": [
        "**Note:**\n",
        "\n",
        "A model of the class *P1* corresponds to a class of statistical models widely used with predictors of small dimensions: logistic regression.\n",
        "\n",
        "This model is used to **explain and predict** the value of a binary qualitative variable.\n",
        "\n",
        "Let Z be a random variable with values in {c_1, c_2}.\n",
        "Logistic regression with respect to the predictor $X = (X_1, X_2, ...)$ is written:\n",
        "\n",
        "$$ ℙ(Z = c_1 | X ) = \\sigma (\\sum \\omega_i X_i + b ) $$\n",
        "\n",
        "Where $\\sigma$ is the sigmoid function. In the context of logistic regression, the weights $\\omega_i$ are obtained by **maximum likelihood**.\n",
        "\n",
        "**B.** Now, let's consider the question of separating more complex sets of points:"
      ]
    },
    {
      "cell_type": "code",
      "execution_count": 66,
      "id": "0621505f",
      "metadata": {
        "id": "0621505f",
        "outputId": "950a4d82-da54-4a81-e628-9b1331586e69",
        "colab": {
          "base_uri": "https://localhost:8080/",
          "height": 470
        }
      },
      "outputs": [
        {
          "output_type": "execute_result",
          "data": {
            "text/plain": [
              "<matplotlib.legend.Legend at 0x7fefe6679e70>"
            ]
          },
          "metadata": {},
          "execution_count": 66
        },
        {
          "output_type": "display_data",
          "data": {
            "text/plain": [
              "<Figure size 640x480 with 1 Axes>"
            ],
            "image/png": "[encoded data removed]"
          },
          "metadata": {}
        }
      ],
      "source": [
        "n = 100\n",
        "std = 0.5\n",
        "# sample 0:\n",
        "meana = torch.tensor((-1., -1.))\n",
        "echa = meana + std * torch.randn(n, 2)\n",
        "meanb = torch.tensor((1., 1.))\n",
        "echb = meanb + std * torch.randn(n, 2)\n",
        "\n",
        "ech0 = torch.cat([echa, echb])\n",
        "\n",
        "# sample :\n",
        "meanc = torch.tensor((1., -1.))\n",
        "echc = meanc + std * torch.randn(n, 2)\n",
        "meand = torch.tensor((-1., 1.))\n",
        "echd = meand + std * torch.randn(n, 2)\n",
        "\n",
        "ech1 = torch.cat([echc, echd])\n",
        "\n",
        "echs2 = [ech0, ech1]\n",
        "\n",
        "# Scatter plot:\n",
        "\n",
        "plt.figure(0)\n",
        "plt.axis([-3, 3, -3, 3])\n",
        "\n",
        "plt.title('data')\n",
        "colors = ['b', 'r']\n",
        "labels = ['0', '1']\n",
        "\n",
        "for i, ech in enumerate(echs2):\n",
        "    x, y = ech.numpy()[:, 0], ech.numpy()[:, 1]\n",
        "    plt.scatter(x, y, color=colors[i])\n",
        "\n",
        "plt.legend(labels)"
      ]
    },
    {
      "cell_type": "markdown",
      "id": "97d2f4c8",
      "metadata": {
        "id": "97d2f4c8"
      },
      "source": [
        "**Exercise 4:**\n",
        "\n",
        "What is the approximate best accuracy achievable with a model of class *P1*?\n",
        "\n",
        "Complete the *P3* class and train a model to achieve an accuracy of at least 90% on the training set.\n",
        "\n",
        "Why does the score after 50 epochs vary so much with each new training?\n",
        "\n",
        "Is it possible, with another class of model, to achieve 100% accuracy?"
      ]
    },
    {
      "cell_type": "code",
      "execution_count": 67,
      "id": "7d42117e",
      "metadata": {
        "deletable": false,
        "id": "7d42117e",
        "nbgrader": {
          "cell_type": "code",
          "checksum": "3bb7bc5459ad55cefff593dc6268083b",
          "grade": false,
          "grade_id": "exercise-4-1",
          "locked": false,
          "schema_version": 3,
          "solution": true,
          "task": false
        },
        "tags": []
      },
      "outputs": [],
      "source": [
        "class P3(nn.Module):\n",
        "\n",
        "    def __init__(self):\n",
        "        super(P3, self).__init__()\n",
        "        self.fc1 = nn.Linear(2, 2)  # first layer: 2 neurons\n",
        "        self.fc2 = nn.Linear(2, 1)  # second layer: 1 neuron\n",
        "\n",
        "    def forward(self, x):\n",
        "        x = self.fc1(x)\n",
        "        x = self.fc2(x)\n",
        "        x.sigmoid()\n",
        "        x = torch.cat((x, 1 - x), dim=1)  # output of sum 1\n",
        "        return x"
      ]
    },
    {
      "cell_type": "code",
      "execution_count": 68,
      "id": "e382771b",
      "metadata": {
        "deletable": false,
        "id": "e382771b",
        "nbgrader": {
          "cell_type": "code",
          "checksum": "7c55c5e939e35858bb4bcf76ce92104a",
          "grade": false,
          "grade_id": "exercise-4-2",
          "locked": false,
          "schema_version": 3,
          "solution": true,
          "task": false
        },
        "tags": []
      },
      "outputs": [],
      "source": [
        "class FirstDataset(Dataset):\n",
        "    def __init__(self, inputs, targets):\n",
        "        self.inputs = inputs\n",
        "        self.targets = targets\n",
        "\n",
        "    def __len__(self):\n",
        "        return self.targets.shape[0]\n",
        "\n",
        "    def __getitem__(self, idx):  # idx is an index called by the loader\n",
        "        x = self.inputs[idx, :]\n",
        "        t = self.targets[idx]\n",
        "        return x, t  # (input, target) pair\n",
        "\n",
        "inputs_train = torch.cat(echs2, dim=0)\n",
        "targets_train = torch.cat((torch.zeros(n), torch.ones(n)), dim=0).long()\n",
        "ds2 = FirstDataset(inputs_train, targets_train)\n",
        "\n",
        "\n",
        "loader2 = DataLoader(ds2, batch_size=10, shuffle=True,num_workers=0)"
      ]
    },
    {
      "cell_type": "code",
      "execution_count": 69,
      "id": "470a8232",
      "metadata": {
        "deletable": false,
        "id": "470a8232",
        "nbgrader": {
          "cell_type": "code",
          "checksum": "22064ec3571500c3c1960e0a6877849e",
          "grade": false,
          "grade_id": "exercise-4-3",
          "locked": false,
          "schema_version": 3,
          "solution": true,
          "task": false
        },
        "outputId": "cc465125-332e-438c-961d-9f3ca63cd25c",
        "colab": {
          "base_uri": "https://localhost:8080/"
        }
      },
      "outputs": [
        {
          "output_type": "stream",
          "name": "stderr",
          "text": [
            "100%|██████████| 100/100 [00:02<00:00, 39.63it/s]"
          ]
        },
        {
          "output_type": "stream",
          "name": "stdout",
          "text": [
            "\n",
            "Training end\n",
            "Accuracy on the training set: 99.50%\n"
          ]
        },
        {
          "output_type": "stream",
          "name": "stderr",
          "text": [
            "\n"
          ]
        }
      ],
      "source": [
        "from tqdm import tqdm # Progess bar\n",
        "lr = 0.1\n",
        "model = P3()\n",
        "# Two commonly used descent methods:\n",
        "#optimizer = torch.optim.SGD(model.parameters(), lr=lr)\n",
        "optimizer = torch.optim.Adam(model.parameters(), lr=lr)\n",
        "\n",
        "for epoch in tqdm(range(100)):\n",
        "    for x, labels in loader2:\n",
        "        optimizer.zero_grad()\n",
        "        output = model(x)\n",
        "        l = loss_fn(output, targets)\n",
        "        l.backward()\n",
        "        optimizer.step()\n",
        "print(\"\\nTraining end\")\n",
        "# accuracy\n",
        "correct = 0\n",
        "total = 0\n",
        "model.eval()\n",
        "\n",
        "for x,labels in loader2:\n",
        "  with torch.no_grad():\n",
        "    outputs = model(x)\n",
        "  _,predicted = torch.max(outputs,1)\n",
        "  correct += (predicted==labels).sum().item()\n",
        "  total += labels.size(0)\n",
        "\n",
        "accuracy = (correct / total)*100.0\n",
        "\n",
        "print(f'Accuracy on the training set: {accuracy:.2f}%')"
      ]
    },
    {
      "cell_type": "code",
      "execution_count": 70,
      "id": "c5cdbad4",
      "metadata": {
        "deletable": false,
        "id": "c5cdbad4",
        "nbgrader": {
          "cell_type": "code",
          "checksum": "825a438ac87230317226ee974f5052a9",
          "grade": false,
          "grade_id": "exercise-4-4",
          "locked": false,
          "schema_version": 3,
          "solution": true,
          "task": false
        },
        "tags": []
      },
      "outputs": [],
      "source": [
        "class P9(nn.Module):\n",
        "\n",
        "    def __init__(self):\n",
        "        super(P9, self).__init__()\n",
        "        self.fc1 = nn.Linear(2,4) # a first layer with 4 neurons\n",
        "        self.fc2 = nn.Linear(4,4) # a second layer with 4 neurons\n",
        "        self.fc3 = nn.Linear(4,1) # a third layer with 1 neuron\n",
        "    def forward(self,x):\n",
        "      x = self.fc1(x)\n",
        "      x = self.fc2(x)\n",
        "      x = self.fc3(x)\n",
        "      x.sigmoid()\n",
        "      x = torch.cat((x, 1 - x), dim=1)\n",
        "      return x"
      ]
    },
    {
      "cell_type": "code",
      "execution_count": 72,
      "id": "e06efc4f",
      "metadata": {
        "deletable": false,
        "id": "e06efc4f",
        "nbgrader": {
          "cell_type": "code",
          "checksum": "f3b4448662a871a03ff6346959cb7ac1",
          "grade": false,
          "grade_id": "exercise-4-5",
          "locked": false,
          "schema_version": 3,
          "solution": true,
          "task": false
        },
        "tags": [],
        "outputId": "4165b3ca-4129-49f3-ee4b-22a11e8c9984",
        "colab": {
          "base_uri": "https://localhost:8080/"
        }
      },
      "outputs": [
        {
          "output_type": "stream",
          "name": "stderr",
          "text": [
            "100%|██████████| 1000/1000 [00:30<00:00, 33.23it/s]"
          ]
        },
        {
          "output_type": "stream",
          "name": "stdout",
          "text": [
            "\n",
            "Training end\n",
            "Accuracy on the training set: 100.00%\n"
          ]
        },
        {
          "output_type": "stream",
          "name": "stderr",
          "text": [
            "\n"
          ]
        }
      ],
      "source": [
        "model = P9()\n",
        "from tqdm import tqdm # Progess bar\n",
        "lr = 0.1\n",
        "# Two commonly used descent methods:\n",
        "#optimizer = torch.optim.SGD(model.parameters(), lr=lr)\n",
        "optimizer = torch.optim.Adam(model.parameters(), lr=lr)\n",
        "\n",
        "for epoch in tqdm(range(1000)):\n",
        "    for x, labels in loader2:\n",
        "        optimizer.zero_grad()\n",
        "        output = model(x)\n",
        "        l = loss_fn(output, targets)\n",
        "        l.backward()\n",
        "        optimizer.step()\n",
        "print(\"\\nTraining end\")\n",
        "# accuracy\n",
        "correct = 0\n",
        "total = 0\n",
        "model.eval()\n",
        "\n",
        "for x,labels in loader2:\n",
        "  with torch.no_grad():\n",
        "    outputs = model(x)\n",
        "  _,predicted = torch.max(outputs,1)\n",
        "  correct += (predicted==labels).sum().item()\n",
        "  total += labels.size(0)\n",
        "\n",
        "accuracy = (correct / total)*100.0\n",
        "\n",
        "print(f'Accuracy on the training set: {accuracy:.2f}%')"
      ]
    },
    {
      "cell_type": "markdown",
      "id": "0a7c04e0",
      "metadata": {
        "id": "0a7c04e0"
      },
      "source": [
        "As the complexity of the model increases, the boundaries can better adapt to the **training set**.\n",
        "\n",
        "**C.** Now let's see how to generalize the approach to multiple classes:"
      ]
    },
    {
      "cell_type": "code",
      "execution_count": 76,
      "id": "187ff916",
      "metadata": {
        "id": "187ff916",
        "tags": [],
        "outputId": "0171362b-2551-46e1-bbbf-5f482ddb30b7",
        "colab": {
          "base_uri": "https://localhost:8080/",
          "height": 470
        }
      },
      "outputs": [
        {
          "output_type": "execute_result",
          "data": {
            "text/plain": [
              "<matplotlib.legend.Legend at 0x7fefe6778340>"
            ]
          },
          "metadata": {},
          "execution_count": 76
        },
        {
          "output_type": "display_data",
          "data": {
            "text/plain": [
              "<Figure size 640x480 with 1 Axes>"
            ],
            "image/png": "[encoded data removed]"
          },
          "metadata": {}
        }
      ],
      "source": [
        "n = 100\n",
        "std = 0.5\n",
        "# Sample 0:\n",
        "mean0 = torch.tensor((-2., -2.))\n",
        "ech0 = mean0 + std * torch.randn(n, 2)\n",
        "\n",
        "# Sample 1:\n",
        "mean1 = torch.tensor((2., -2.))\n",
        "ech1 = mean1 + std * torch.randn(n, 2)\n",
        "\n",
        "# Sample 2:\n",
        "mean2 = torch.tensor((-2., 2.))\n",
        "ech2 = mean2 + std * torch.randn(n, 2)\n",
        "\n",
        "echs3 = [ech0, ech1, ech2]\n",
        "\n",
        "# Scatter plot:\n",
        "plt.figure(0)\n",
        "plt.axis([-10, 10, -10, 10])\n",
        "\n",
        "plt.title('data')\n",
        "colors = ['b', 'r', 'g']\n",
        "labels = ['0', '1', '2']\n",
        "\n",
        "for i, ech in enumerate(echs3):\n",
        "    x, y = ech.numpy()[:, 0], ech.numpy()[:, 1]\n",
        "    plt.scatter(x, y, color=colors[i])\n",
        "\n",
        "plt.legend(labels)"
      ]
    },
    {
      "cell_type": "markdown",
      "id": "0f32cbc0",
      "metadata": {
        "id": "0f32cbc0"
      },
      "source": [
        "To separate these points, a two-layer perceptron should be sufficient. The problem is defining the cost function. To continue using the log-likelihood, the output layer will have as many neurons as classes. To define a probability distribution, normalized exponentials are used (softmax function):\n",
        "\n",
        "$p_i = \\dfrac{e^{y_i}}{\\sum{e^{y_j}}}$\n",
        "  \n",
        "Where the $y_i$ are the outputs of the neurons in the last layer."
      ]
    },
    {
      "cell_type": "code",
      "execution_count": 77,
      "id": "d320c067",
      "metadata": {
        "id": "d320c067"
      },
      "outputs": [],
      "source": [
        "class P6(nn.Module):\n",
        "\n",
        "    def __init__(self):\n",
        "        super(P6, self).__init__()\n",
        "        self.fc1 = nn.Linear(2, 2)  # First layer: 2 neurons\n",
        "        self.fc2 = nn.Linear(2, 3)  # Second layer: 3 neurons\n",
        "\n",
        "    def forward(self, x):\n",
        "        # Max pooling over a (2, 2) window\n",
        "        x = self.fc1(x)\n",
        "        x = x.relu()\n",
        "        x = self.fc2(x)\n",
        "        x = x.softmax(dim=1)\n",
        "        return x"
      ]
    },
    {
      "cell_type": "markdown",
      "id": "832ccf0e",
      "metadata": {
        "id": "832ccf0e"
      },
      "source": [
        "**Exercise 5:** Create datasets and dataloaders objects and check if it is possible to separate the points (accuracy > 95%)."
      ]
    },
    {
      "cell_type": "code",
      "execution_count": 79,
      "id": "93f403e4",
      "metadata": {
        "deletable": false,
        "id": "93f403e4",
        "nbgrader": {
          "cell_type": "code",
          "checksum": "2098c6d09146eb711fd7f230f1fb2f40",
          "grade": false,
          "grade_id": "exercise-5-1",
          "locked": false,
          "schema_version": 3,
          "solution": true,
          "task": false
        },
        "tags": [],
        "outputId": "e1600950-9e3f-44bc-fe11-92678231ac17",
        "colab": {
          "base_uri": "https://localhost:8080/"
        }
      },
      "outputs": [
        {
          "output_type": "stream",
          "name": "stdout",
          "text": [
            "torch.Size([400, 2])\n",
            "torch.Size([200])\n"
          ]
        }
      ],
      "source": [
        "class FirstDataset(Dataset):\n",
        "    def __init__(self, inputs, targets):\n",
        "        self.inputs = inputs\n",
        "        self.targets = targets\n",
        "\n",
        "    def __len__(self):\n",
        "        return self.targets.shape[0]\n",
        "\n",
        "    def __getitem__(self, idx):  # idx is an index called by the loader\n",
        "        x = self.inputs[idx, :]\n",
        "        t = self.targets[idx]\n",
        "        return x, t  # (input, target) pair\n",
        "\n",
        "inputs3 = torch.cat(echs2, dim=0)\n",
        "targets3 = torch.cat((torch.zeros(n), torch.ones(n)), dim=0).long()\n",
        "ds3 = FirstDataset(inputs3, targets3)\n",
        "\n",
        "\n",
        "loader3 = DataLoader(ds3, batch_size=10, shuffle=True,num_workers=0)\n",
        "print(inputs3.shape)\n",
        "print(targets3.shape)"
      ]
    },
    {
      "cell_type": "code",
      "execution_count": 82,
      "id": "44077195",
      "metadata": {
        "deletable": false,
        "id": "44077195",
        "nbgrader": {
          "cell_type": "code",
          "checksum": "e533efa116d03805c84c1743fe3f45ba",
          "grade": false,
          "grade_id": "exercise-5-2",
          "locked": false,
          "schema_version": 3,
          "solution": true,
          "task": false
        },
        "tags": [],
        "outputId": "c2934992-4a1e-45f0-d1d2-529fd540a147",
        "colab": {
          "base_uri": "https://localhost:8080/"
        }
      },
      "outputs": [
        {
          "output_type": "stream",
          "name": "stderr",
          "text": [
            "100%|██████████| 700/700 [00:13<00:00, 52.76it/s]"
          ]
        },
        {
          "output_type": "stream",
          "name": "stdout",
          "text": [
            "\n",
            "Training end\n",
            "Accuracy on the training set: 50.00%\n"
          ]
        },
        {
          "output_type": "stream",
          "name": "stderr",
          "text": [
            "\n"
          ]
        }
      ],
      "source": [
        "model = P6()\n",
        "# YOUR CODE HERE\n",
        "from tqdm import tqdm # Progess bar\n",
        "lr = 0.1\n",
        "# Two commonly used descent methods:\n",
        "optimizer = torch.optim.SGD(model.parameters(), lr=lr)\n",
        "#optimizer = torch.optim.Adam(model.parameters(), lr=lr)\n",
        "\n",
        "for epoch in tqdm(range(700)):\n",
        "    for x, labels in loader3:\n",
        "        optimizer.zero_grad()\n",
        "        output = model(x)\n",
        "        l = loss_fn(output, targets)\n",
        "        l.backward()\n",
        "        optimizer.step()\n",
        "print(\"\\nTraining end\")\n",
        "# accuracy\n",
        "correct = 0\n",
        "total = 0\n",
        "model.eval()\n",
        "\n",
        "for x,labels in loader3:\n",
        "  with torch.no_grad():\n",
        "    outputs = model(x)\n",
        "  _,predicted = torch.max(outputs,1)\n",
        "  correct += (predicted==labels).sum().item()\n",
        "  total += labels.size(0)\n",
        "\n",
        "accuracy = (correct / total)*100.0\n",
        "\n",
        "print(f'Accuracy on the training set: {accuracy:.2f}%')"
      ]
    }
  ],
  "metadata": {
    "colab": {
      "provenance": []
    },
    "kernelspec": {
      "display_name": "Python 3",
      "name": "python3"
    },
    "language_info": {
      "codemirror_mode": {
        "name": "ipython",
        "version": 3
      },
      "file_extension": ".py",
      "mimetype": "text/x-python",
      "name": "python",
      "nbconvert_exporter": "python",
      "pygments_lexer": "ipython3",
      "version": "3.9.7"
    }
  },
  "nbformat": 4,
  "nbformat_minor": 5
}