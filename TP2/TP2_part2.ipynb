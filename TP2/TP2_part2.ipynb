{
  "cells": [
    {
      "cell_type": "markdown",
      "metadata": {
        "id": "7hrd-WSf6I5Y"
      },
      "source": [
        "**Partie II**\n",
        "\n",
        "In this section, we focus on two other important aspects of deep learning: speeding up learning with GPU cards and the ability to use pretrained networks.\n",
        "\n",
        "To illustrate the first aspect, we will use the GPUs available under Google Colab. To do this, before starting to read the notebook, go to **Modifier**/**Modifier les param du notebook** and select a GPU.\n",
        "\n",
        "For the second aspect, we will work on a binary classification problem using a small dataset (\"hymenoptera_data\"). We will see the benefits of using a network that has already been trained on a larger dataset and a more general classification task."
      ]
    },
    {
      "cell_type": "code",
      "execution_count": 1,
      "metadata": {
        "id": "w8-J_sK83SAA"
      },
      "outputs": [],
      "source": [
        "import matplotlib.pyplot as plt\n",
        "import numpy as np\n",
        "import os\n",
        "import time\n",
        "import torch\n",
        "import torchvision\n",
        "import torch.nn as nn\n",
        "import torch.nn.functional as F\n",
        "from torch.utils.data import Dataset, DataLoader\n",
        "from torchvision import datasets, models, transforms"
      ]
    },
    {
      "cell_type": "code",
      "execution_count": 15,
      "metadata": {
        "colab": {
          "base_uri": "https://localhost:8080/"
        },
        "id": "uO9dWAHQ1qzx",
        "outputId": "b63bf20b-2ea2-4745-c420-9723b3037215"
      },
      "outputs": [
        {
          "output_type": "stream",
          "name": "stdout",
          "text": [
            "Change the runtime type to GPU\n"
          ]
        }
      ],
      "source": [
        "# Check GPU availability\n",
        "if torch.cuda.is_available():\n",
        "  device = torch.device(\"cuda:0\") # 0 is the index of the GPU\n",
        "  print(\"You are on GPU !\")\n",
        "else:\n",
        "  print('Change the runtime type to GPU')"
      ]
    },
    {
      "cell_type": "markdown",
      "metadata": {
        "id": "wndXhSn-6v0k"
      },
      "source": [
        "## **A.** Load and viz the Hymenoptera dataset:"
      ]
    },
    {
      "cell_type": "code",
      "execution_count": 3,
      "metadata": {
        "colab": {
          "base_uri": "https://localhost:8080/"
        },
        "id": "52pFZ3U367Kc",
        "outputId": "1cd4c2d3-baa5-4066-9b5f-740a4e519b63"
      },
      "outputs": [
        {
          "output_type": "stream",
          "name": "stdout",
          "text": [
            "--2023-11-02 11:16:20--  https://download.pytorch.org/tutorial/hymenoptera_data.zip\n",
            "Resolving download.pytorch.org (download.pytorch.org)... 18.239.83.16, 18.239.83.69, 18.239.83.126, ...\n",
            "Connecting to download.pytorch.org (download.pytorch.org)|18.239.83.16|:443... connected.\n",
            "HTTP request sent, awaiting response... 200 OK\n",
            "Length: 47286322 (45M) [application/zip]\n",
            "Saving to: ‘hymenoptera_data.zip’\n",
            "\n",
            "hymenoptera_data.zi 100%[===================>]  45.10M  26.7MB/s    in 1.7s    \n",
            "\n",
            "2023-11-02 11:16:22 (26.7 MB/s) - ‘hymenoptera_data.zip’ saved [47286322/47286322]\n",
            "\n"
          ]
        }
      ],
      "source": [
        "# download the dataset\n",
        "! wget https://download.pytorch.org/tutorial/hymenoptera_data.zip\n",
        "! unzip -qq hymenoptera_data.zip"
      ]
    },
    {
      "cell_type": "code",
      "execution_count": 4,
      "metadata": {
        "colab": {
          "base_uri": "https://localhost:8080/"
        },
        "id": "g30QPYvJ6usN",
        "outputId": "210f4556-9133-47ae-8165-27d6257248ac"
      },
      "outputs": [
        {
          "output_type": "stream",
          "name": "stdout",
          "text": [
            "['val', 'train']\n"
          ]
        }
      ],
      "source": [
        "dir_data = 'hymenoptera_data'\n",
        "print(os.listdir(dir_data))"
      ]
    },
    {
      "cell_type": "markdown",
      "metadata": {
        "id": "tp8Wb2n3oO19"
      },
      "source": [
        "The dataset is in a standard format, and we can manipulate it with a ready-to-use dataset object of the datasets.ImageFolder class:"
      ]
    },
    {
      "cell_type": "code",
      "execution_count": 5,
      "metadata": {
        "colab": {
          "base_uri": "https://localhost:8080/"
        },
        "id": "zB_qzRQvoDR-",
        "outputId": "1a9ee05b-a9ea-4b0a-f09b-3a7803fd6136"
      },
      "outputs": [
        {
          "output_type": "stream",
          "name": "stdout",
          "text": [
            "Dataset sizs:\n",
            "{'train': 244, 'val': 153}\n"
          ]
        }
      ],
      "source": [
        "data_transforms = {\n",
        "    'train': transforms.Compose([\n",
        "        transforms.RandomResizedCrop(224),\n",
        "        transforms.RandomHorizontalFlip(),\n",
        "        #transforms.RandomVerticalFlip(),\n",
        "        transforms.ToTensor(),\n",
        "        transforms.Normalize([0.485, 0.456, 0.406], [0.229, 0.224, 0.225])\n",
        "    ]),\n",
        "    'val': transforms.Compose([\n",
        "        transforms.Resize(256),\n",
        "        transforms.CenterCrop(224),\n",
        "        transforms.ToTensor(),\n",
        "        transforms.Normalize([0.485, 0.456, 0.406], [0.229, 0.224, 0.225])\n",
        "    ]),\n",
        "}\n",
        "\n",
        "image_datasets = {x: datasets.ImageFolder(os.path.join(dir_data, x),\n",
        "                                          data_transforms[x])\n",
        "                  for x in ['train', 'val']}\n",
        "\n",
        "dataloaders = {x: torch.utils.data.DataLoader(image_datasets[x], batch_size=4,\n",
        "                                             shuffle=True, num_workers=0)\n",
        "              for x in ['train', 'val']}\n",
        "\n",
        "dataset_sizes = {x: len(image_datasets[x]) for x in ['train', 'val']}\n",
        "\n",
        "print('Dataset sizs:' )\n",
        "print(dataset_sizes)"
      ]
    },
    {
      "cell_type": "markdown",
      "metadata": {
        "id": "9WqaCTQPpM3v"
      },
      "source": [
        "Since the provided dataset is very small, we need to maximize its utility. We will produce new images through additional transformations that preserve the nature of the object (data augmentation). \\\\\n",
        "In the code, transforms.*RandomResizedCrop()*, *transforms.RandomHorizontalFlip()* and *transforms.RandomVerticalFlip()* apply horizontal or vertical axis symmetry with a probability of 1/2. Note that these transformations might not be suitable for other datasets like MNIST since the mirror image of a digit is generally not another digit. Therefore, transformations often need to be adapted to the nature of the dataset. \\\\\n",
        "Some images are presented below.\n"
      ]
    },
    {
      "cell_type": "code",
      "execution_count": 6,
      "metadata": {
        "id": "jRxgSsnkpAZd"
      },
      "outputs": [],
      "source": [
        "def imshow(inp, ax=None, title=None):\n",
        "    \"\"\"Imshow for Tensor.\"\"\"\n",
        "    inp = inp.numpy().transpose((1, 2, 0))\n",
        "    mean = np.array([0.485, 0.456, 0.406])\n",
        "    std = np.array([0.229, 0.224, 0.225])\n",
        "    inp = std * inp + mean\n",
        "    inp = np.clip(inp, 0, 1)\n",
        "    if ax is None:\n",
        "      plt.imshow(inp)\n",
        "      plt.title(title)\n",
        "    else:\n",
        "      ax.imshow(inp)\n",
        "      ax.set_title(title)"
      ]
    },
    {
      "cell_type": "code",
      "execution_count": 14,
      "metadata": {
        "colab": {
          "base_uri": "https://localhost:8080/",
          "height": 57
        },
        "id": "FNUCzqp5IKtM",
        "outputId": "d6f11d2f-ce18-4d13-f151-e7e814fe11f1"
      },
      "outputs": [
        {
          "output_type": "display_data",
          "data": {
            "text/plain": [
              "<Figure size 1500x500 with 64 Axes>"
            ],
            "image/png": "[encoded data removed]"
          },
          "metadata": {}
        }
      ],
      "source": [
        "def plot_batch(images, labels, class_names):\n",
        "    num_images = len(images)\n",
        "    fig, axs = plt.subplots(1, num_images, figsize=(15, 5))\n",
        "\n",
        "    for i in range(num_images):\n",
        "        axs[i].axis('off')\n",
        "        imshow(images[i],axs[i],class_names[labels[i]])\n",
        "    plt.show()\n",
        "# Get a batch of training data\n",
        "inputs, classes = next(iter(dataloaders['train']))\n",
        "class_names = image_datasets['train'].classes\n",
        "# Assuming `inputs` is a batch of images and `classes` are the corresponding class labels\n",
        "plot_batch(inputs, classes, class_names)\n"
      ]
    },
    {
      "cell_type": "markdown",
      "metadata": {
        "id": "oQ2dPsjxAVUX"
      },
      "source": [
        "## **B.** Using a Graphics Card:\n",
        "\n",
        "Let's start by checking if, for typical architectures like ResNet, using a GPU significantly improves computation time. We will begin by loading the lightest of the ResNet architectures and select an appropriate loss function."
      ]
    },
    {
      "cell_type": "markdown",
      "metadata": {
        "id": "52_1BQUc-N9H"
      },
      "source": [
        "**Exercise**\n",
        "\n",
        "- Load an untrained ResNet18. How many total weights does it contain? Check [here](https://pytorch.org/vision/main/models/generated/torchvision.models.resnet18.html).  ==> 11689512\n",
        "\n",
        "- How many neurons does the last layer of the network have?  == 1000\n",
        "\n",
        "- Modify the last layer of the classifier so that it has as many neurons as there are classes in hymenoptera_data:"
      ]
    },
    {
      "cell_type": "code",
      "execution_count": 7,
      "metadata": {
        "colab": {
          "base_uri": "https://localhost:8080/"
        },
        "deletable": false,
        "id": "BDYyavo6fPGU",
        "nbgrader": {
          "cell_type": "code",
          "checksum": "4585d46815116744ed1e0861bb726f65",
          "grade": false,
          "grade_id": "cell-eafd7da8c7e07793",
          "locked": false,
          "schema_version": 3,
          "solution": true,
          "task": false
        },
        "outputId": "dda26c30-94cb-4c72-d598-e7a65ffdb2df",
        "tags": []
      },
      "outputs": [
        {
          "output_type": "stream",
          "name": "stderr",
          "text": [
            "/usr/local/lib/python3.10/dist-packages/torchvision/models/_utils.py:208: UserWarning: The parameter 'pretrained' is deprecated since 0.13 and may be removed in the future, please use 'weights' instead.\n",
            "  warnings.warn(\n",
            "/usr/local/lib/python3.10/dist-packages/torchvision/models/_utils.py:223: UserWarning: Arguments other than a weight enum or `None` for 'weights' are deprecated since 0.13 and may be removed in the future. The current behavior is equivalent to passing `weights=None`.\n",
            "  warnings.warn(msg)\n"
          ]
        },
        {
          "output_type": "stream",
          "name": "stdout",
          "text": [
            "ResNet(\n",
            "  (conv1): Conv2d(3, 64, kernel_size=(7, 7), stride=(2, 2), padding=(3, 3), bias=False)\n",
            "  (bn1): BatchNorm2d(64, eps=1e-05, momentum=0.1, affine=True, track_running_stats=True)\n",
            "  (relu): ReLU(inplace=True)\n",
            "  (maxpool): MaxPool2d(kernel_size=3, stride=2, padding=1, dilation=1, ceil_mode=False)\n",
            "  (layer1): Sequential(\n",
            "    (0): BasicBlock(\n",
            "      (conv1): Conv2d(64, 64, kernel_size=(3, 3), stride=(1, 1), padding=(1, 1), bias=False)\n",
            "      (bn1): BatchNorm2d(64, eps=1e-05, momentum=0.1, affine=True, track_running_stats=True)\n",
            "      (relu): ReLU(inplace=True)\n",
            "      (conv2): Conv2d(64, 64, kernel_size=(3, 3), stride=(1, 1), padding=(1, 1), bias=False)\n",
            "      (bn2): BatchNorm2d(64, eps=1e-05, momentum=0.1, affine=True, track_running_stats=True)\n",
            "    )\n",
            "    (1): BasicBlock(\n",
            "      (conv1): Conv2d(64, 64, kernel_size=(3, 3), stride=(1, 1), padding=(1, 1), bias=False)\n",
            "      (bn1): BatchNorm2d(64, eps=1e-05, momentum=0.1, affine=True, track_running_stats=True)\n",
            "      (relu): ReLU(inplace=True)\n",
            "      (conv2): Conv2d(64, 64, kernel_size=(3, 3), stride=(1, 1), padding=(1, 1), bias=False)\n",
            "      (bn2): BatchNorm2d(64, eps=1e-05, momentum=0.1, affine=True, track_running_stats=True)\n",
            "    )\n",
            "  )\n",
            "  (layer2): Sequential(\n",
            "    (0): BasicBlock(\n",
            "      (conv1): Conv2d(64, 128, kernel_size=(3, 3), stride=(2, 2), padding=(1, 1), bias=False)\n",
            "      (bn1): BatchNorm2d(128, eps=1e-05, momentum=0.1, affine=True, track_running_stats=True)\n",
            "      (relu): ReLU(inplace=True)\n",
            "      (conv2): Conv2d(128, 128, kernel_size=(3, 3), stride=(1, 1), padding=(1, 1), bias=False)\n",
            "      (bn2): BatchNorm2d(128, eps=1e-05, momentum=0.1, affine=True, track_running_stats=True)\n",
            "      (downsample): Sequential(\n",
            "        (0): Conv2d(64, 128, kernel_size=(1, 1), stride=(2, 2), bias=False)\n",
            "        (1): BatchNorm2d(128, eps=1e-05, momentum=0.1, affine=True, track_running_stats=True)\n",
            "      )\n",
            "    )\n",
            "    (1): BasicBlock(\n",
            "      (conv1): Conv2d(128, 128, kernel_size=(3, 3), stride=(1, 1), padding=(1, 1), bias=False)\n",
            "      (bn1): BatchNorm2d(128, eps=1e-05, momentum=0.1, affine=True, track_running_stats=True)\n",
            "      (relu): ReLU(inplace=True)\n",
            "      (conv2): Conv2d(128, 128, kernel_size=(3, 3), stride=(1, 1), padding=(1, 1), bias=False)\n",
            "      (bn2): BatchNorm2d(128, eps=1e-05, momentum=0.1, affine=True, track_running_stats=True)\n",
            "    )\n",
            "  )\n",
            "  (layer3): Sequential(\n",
            "    (0): BasicBlock(\n",
            "      (conv1): Conv2d(128, 256, kernel_size=(3, 3), stride=(2, 2), padding=(1, 1), bias=False)\n",
            "      (bn1): BatchNorm2d(256, eps=1e-05, momentum=0.1, affine=True, track_running_stats=True)\n",
            "      (relu): ReLU(inplace=True)\n",
            "      (conv2): Conv2d(256, 256, kernel_size=(3, 3), stride=(1, 1), padding=(1, 1), bias=False)\n",
            "      (bn2): BatchNorm2d(256, eps=1e-05, momentum=0.1, affine=True, track_running_stats=True)\n",
            "      (downsample): Sequential(\n",
            "        (0): Conv2d(128, 256, kernel_size=(1, 1), stride=(2, 2), bias=False)\n",
            "        (1): BatchNorm2d(256, eps=1e-05, momentum=0.1, affine=True, track_running_stats=True)\n",
            "      )\n",
            "    )\n",
            "    (1): BasicBlock(\n",
            "      (conv1): Conv2d(256, 256, kernel_size=(3, 3), stride=(1, 1), padding=(1, 1), bias=False)\n",
            "      (bn1): BatchNorm2d(256, eps=1e-05, momentum=0.1, affine=True, track_running_stats=True)\n",
            "      (relu): ReLU(inplace=True)\n",
            "      (conv2): Conv2d(256, 256, kernel_size=(3, 3), stride=(1, 1), padding=(1, 1), bias=False)\n",
            "      (bn2): BatchNorm2d(256, eps=1e-05, momentum=0.1, affine=True, track_running_stats=True)\n",
            "    )\n",
            "  )\n",
            "  (layer4): Sequential(\n",
            "    (0): BasicBlock(\n",
            "      (conv1): Conv2d(256, 512, kernel_size=(3, 3), stride=(2, 2), padding=(1, 1), bias=False)\n",
            "      (bn1): BatchNorm2d(512, eps=1e-05, momentum=0.1, affine=True, track_running_stats=True)\n",
            "      (relu): ReLU(inplace=True)\n",
            "      (conv2): Conv2d(512, 512, kernel_size=(3, 3), stride=(1, 1), padding=(1, 1), bias=False)\n",
            "      (bn2): BatchNorm2d(512, eps=1e-05, momentum=0.1, affine=True, track_running_stats=True)\n",
            "      (downsample): Sequential(\n",
            "        (0): Conv2d(256, 512, kernel_size=(1, 1), stride=(2, 2), bias=False)\n",
            "        (1): BatchNorm2d(512, eps=1e-05, momentum=0.1, affine=True, track_running_stats=True)\n",
            "      )\n",
            "    )\n",
            "    (1): BasicBlock(\n",
            "      (conv1): Conv2d(512, 512, kernel_size=(3, 3), stride=(1, 1), padding=(1, 1), bias=False)\n",
            "      (bn1): BatchNorm2d(512, eps=1e-05, momentum=0.1, affine=True, track_running_stats=True)\n",
            "      (relu): ReLU(inplace=True)\n",
            "      (conv2): Conv2d(512, 512, kernel_size=(3, 3), stride=(1, 1), padding=(1, 1), bias=False)\n",
            "      (bn2): BatchNorm2d(512, eps=1e-05, momentum=0.1, affine=True, track_running_stats=True)\n",
            "    )\n",
            "  )\n",
            "  (avgpool): AdaptiveAvgPool2d(output_size=(1, 1))\n",
            "  (fc): Linear(in_features=512, out_features=1000, bias=True)\n",
            ")\n"
          ]
        }
      ],
      "source": [
        "model = models.resnet18(pretrained=False)\n",
        "print(model)"
      ]
    },
    {
      "cell_type": "markdown",
      "metadata": {
        "id": "avzLu9A9kfQJ"
      },
      "source": [
        "**Note:** Batch normalization operations facilitate learning but won't be detailed here. In summary, they center/reduce each feature map over the batch and then renormalize. The two renormalization parameters (mean and standard deviation) are trainable."
      ]
    },
    {
      "cell_type": "code",
      "execution_count": 8,
      "metadata": {
        "colab": {
          "base_uri": "https://localhost:8080/"
        },
        "deletable": false,
        "id": "WBHeH2oDnLxF",
        "nbgrader": {
          "cell_type": "code",
          "checksum": "412b4de0aa8334faa14a622df424c5eb",
          "grade": false,
          "grade_id": "cell-b052148498e265c4",
          "locked": false,
          "schema_version": 3,
          "solution": true,
          "task": false
        },
        "outputId": "ef515611-3636-45b4-9409-81c04db7088f",
        "tags": []
      },
      "outputs": [
        {
          "output_type": "stream",
          "name": "stdout",
          "text": [
            "Linear(in_features=512, out_features=1000, bias=True)\n"
          ]
        }
      ],
      "source": [
        "# Neurons in the last layer\n",
        "print(model.fc)"
      ]
    },
    {
      "cell_type": "code",
      "execution_count": 9,
      "metadata": {
        "colab": {
          "base_uri": "https://localhost:8080/"
        },
        "deletable": false,
        "id": "n503vva5hbX4",
        "nbgrader": {
          "cell_type": "code",
          "checksum": "9fb28964abb2a7e652816a59e9f717f6",
          "grade": false,
          "grade_id": "cell-e4c2bf578b6fb64b",
          "locked": false,
          "schema_version": 3,
          "solution": true,
          "task": false
        },
        "outputId": "112d9f77-010f-42f0-85dd-dc16d3360fab",
        "tags": []
      },
      "outputs": [
        {
          "output_type": "execute_result",
          "data": {
            "text/plain": [
              "ResNet(\n",
              "  (conv1): Conv2d(3, 64, kernel_size=(7, 7), stride=(2, 2), padding=(3, 3), bias=False)\n",
              "  (bn1): BatchNorm2d(64, eps=1e-05, momentum=0.1, affine=True, track_running_stats=True)\n",
              "  (relu): ReLU(inplace=True)\n",
              "  (maxpool): MaxPool2d(kernel_size=3, stride=2, padding=1, dilation=1, ceil_mode=False)\n",
              "  (layer1): Sequential(\n",
              "    (0): BasicBlock(\n",
              "      (conv1): Conv2d(64, 64, kernel_size=(3, 3), stride=(1, 1), padding=(1, 1), bias=False)\n",
              "      (bn1): BatchNorm2d(64, eps=1e-05, momentum=0.1, affine=True, track_running_stats=True)\n",
              "      (relu): ReLU(inplace=True)\n",
              "      (conv2): Conv2d(64, 64, kernel_size=(3, 3), stride=(1, 1), padding=(1, 1), bias=False)\n",
              "      (bn2): BatchNorm2d(64, eps=1e-05, momentum=0.1, affine=True, track_running_stats=True)\n",
              "    )\n",
              "    (1): BasicBlock(\n",
              "      (conv1): Conv2d(64, 64, kernel_size=(3, 3), stride=(1, 1), padding=(1, 1), bias=False)\n",
              "      (bn1): BatchNorm2d(64, eps=1e-05, momentum=0.1, affine=True, track_running_stats=True)\n",
              "      (relu): ReLU(inplace=True)\n",
              "      (conv2): Conv2d(64, 64, kernel_size=(3, 3), stride=(1, 1), padding=(1, 1), bias=False)\n",
              "      (bn2): BatchNorm2d(64, eps=1e-05, momentum=0.1, affine=True, track_running_stats=True)\n",
              "    )\n",
              "  )\n",
              "  (layer2): Sequential(\n",
              "    (0): BasicBlock(\n",
              "      (conv1): Conv2d(64, 128, kernel_size=(3, 3), stride=(2, 2), padding=(1, 1), bias=False)\n",
              "      (bn1): BatchNorm2d(128, eps=1e-05, momentum=0.1, affine=True, track_running_stats=True)\n",
              "      (relu): ReLU(inplace=True)\n",
              "      (conv2): Conv2d(128, 128, kernel_size=(3, 3), stride=(1, 1), padding=(1, 1), bias=False)\n",
              "      (bn2): BatchNorm2d(128, eps=1e-05, momentum=0.1, affine=True, track_running_stats=True)\n",
              "      (downsample): Sequential(\n",
              "        (0): Conv2d(64, 128, kernel_size=(1, 1), stride=(2, 2), bias=False)\n",
              "        (1): BatchNorm2d(128, eps=1e-05, momentum=0.1, affine=True, track_running_stats=True)\n",
              "      )\n",
              "    )\n",
              "    (1): BasicBlock(\n",
              "      (conv1): Conv2d(128, 128, kernel_size=(3, 3), stride=(1, 1), padding=(1, 1), bias=False)\n",
              "      (bn1): BatchNorm2d(128, eps=1e-05, momentum=0.1, affine=True, track_running_stats=True)\n",
              "      (relu): ReLU(inplace=True)\n",
              "      (conv2): Conv2d(128, 128, kernel_size=(3, 3), stride=(1, 1), padding=(1, 1), bias=False)\n",
              "      (bn2): BatchNorm2d(128, eps=1e-05, momentum=0.1, affine=True, track_running_stats=True)\n",
              "    )\n",
              "  )\n",
              "  (layer3): Sequential(\n",
              "    (0): BasicBlock(\n",
              "      (conv1): Conv2d(128, 256, kernel_size=(3, 3), stride=(2, 2), padding=(1, 1), bias=False)\n",
              "      (bn1): BatchNorm2d(256, eps=1e-05, momentum=0.1, affine=True, track_running_stats=True)\n",
              "      (relu): ReLU(inplace=True)\n",
              "      (conv2): Conv2d(256, 256, kernel_size=(3, 3), stride=(1, 1), padding=(1, 1), bias=False)\n",
              "      (bn2): BatchNorm2d(256, eps=1e-05, momentum=0.1, affine=True, track_running_stats=True)\n",
              "      (downsample): Sequential(\n",
              "        (0): Conv2d(128, 256, kernel_size=(1, 1), stride=(2, 2), bias=False)\n",
              "        (1): BatchNorm2d(256, eps=1e-05, momentum=0.1, affine=True, track_running_stats=True)\n",
              "      )\n",
              "    )\n",
              "    (1): BasicBlock(\n",
              "      (conv1): Conv2d(256, 256, kernel_size=(3, 3), stride=(1, 1), padding=(1, 1), bias=False)\n",
              "      (bn1): BatchNorm2d(256, eps=1e-05, momentum=0.1, affine=True, track_running_stats=True)\n",
              "      (relu): ReLU(inplace=True)\n",
              "      (conv2): Conv2d(256, 256, kernel_size=(3, 3), stride=(1, 1), padding=(1, 1), bias=False)\n",
              "      (bn2): BatchNorm2d(256, eps=1e-05, momentum=0.1, affine=True, track_running_stats=True)\n",
              "    )\n",
              "  )\n",
              "  (layer4): Sequential(\n",
              "    (0): BasicBlock(\n",
              "      (conv1): Conv2d(256, 512, kernel_size=(3, 3), stride=(2, 2), padding=(1, 1), bias=False)\n",
              "      (bn1): BatchNorm2d(512, eps=1e-05, momentum=0.1, affine=True, track_running_stats=True)\n",
              "      (relu): ReLU(inplace=True)\n",
              "      (conv2): Conv2d(512, 512, kernel_size=(3, 3), stride=(1, 1), padding=(1, 1), bias=False)\n",
              "      (bn2): BatchNorm2d(512, eps=1e-05, momentum=0.1, affine=True, track_running_stats=True)\n",
              "      (downsample): Sequential(\n",
              "        (0): Conv2d(256, 512, kernel_size=(1, 1), stride=(2, 2), bias=False)\n",
              "        (1): BatchNorm2d(512, eps=1e-05, momentum=0.1, affine=True, track_running_stats=True)\n",
              "      )\n",
              "    )\n",
              "    (1): BasicBlock(\n",
              "      (conv1): Conv2d(512, 512, kernel_size=(3, 3), stride=(1, 1), padding=(1, 1), bias=False)\n",
              "      (bn1): BatchNorm2d(512, eps=1e-05, momentum=0.1, affine=True, track_running_stats=True)\n",
              "      (relu): ReLU(inplace=True)\n",
              "      (conv2): Conv2d(512, 512, kernel_size=(3, 3), stride=(1, 1), padding=(1, 1), bias=False)\n",
              "      (bn2): BatchNorm2d(512, eps=1e-05, momentum=0.1, affine=True, track_running_stats=True)\n",
              "    )\n",
              "  )\n",
              "  (avgpool): AdaptiveAvgPool2d(output_size=(1, 1))\n",
              "  (fc): Linear(in_features=512, out_features=2, bias=True)\n",
              ")"
            ]
          },
          "metadata": {},
          "execution_count": 9
        }
      ],
      "source": [
        "# Modification of the last layer of the classifier\n",
        "def get_model(pretrained):\n",
        "  model = models.resnet18(pretrained=pretrained)\n",
        "  model.fc = nn.Linear(model.fc.in_features, 2)\n",
        "  return model\n",
        "\n",
        "get_model(False)"
      ]
    },
    {
      "cell_type": "markdown",
      "metadata": {
        "deletable": false,
        "id": "3q1LpTVNEiBX",
        "nbgrader": {
          "cell_type": "markdown",
          "checksum": "6bfcda4ee548c799305f5b6fec91141a",
          "grade": true,
          "grade_id": "cell-67d8d83e708666bb",
          "locked": false,
          "points": 0,
          "schema_version": 3,
          "solution": true,
          "task": false
        },
        "tags": []
      },
      "source": [
        "**Exercise:** Is there a softmax layer at the end of the ResNet architecture?\n",
        "\n",
        "YOUR ANSWER HERE ==> no"
      ]
    },
    {
      "cell_type": "markdown",
      "metadata": {
        "id": "YFxO-wGjqpRv"
      },
      "source": [
        "Now, let's define the negative log-likelihood as the cost function. To compute the log-likelihood, we could add a LogSoftmax layer to the ResNet. Yet it's easier and more common to use a loss function that includes *LogSoftmax*. In this regard, in PyTorch,  *nn.CrossEntropyLoss* combines both *LogSoftmax* and *NLLLoss*."
      ]
    },
    {
      "cell_type": "code",
      "execution_count": 10,
      "metadata": {
        "id": "_pbB5UV9qqgF"
      },
      "outputs": [],
      "source": [
        "loss_fn =  nn.CrossEntropyLoss()"
      ]
    },
    {
      "cell_type": "markdown",
      "metadata": {
        "id": "NaU7AXKAKJS_"
      },
      "source": [
        "Finally, let's define a function that incorporates the training loop.\n",
        "\n",
        "\n"
      ]
    },
    {
      "cell_type": "markdown",
      "metadata": {
        "id": "AsUcIAbaCRD7"
      },
      "source": [
        "**Exercise:**\n",
        "- Complete the *train_model* function, which takes a model, a loss function, an optimizer, and a number of epochs as arguments.\n",
        "- Train the ResNet over one epoch with mini-batches of 64 images."
      ]
    },
    {
      "cell_type": "code",
      "execution_count": 11,
      "metadata": {
        "deletable": false,
        "id": "mf97k7ze4x-E",
        "nbgrader": {
          "cell_type": "code",
          "checksum": "acdd28db71eb8766aa3e59026f4a1e02",
          "grade": false,
          "grade_id": "cell-939679088c690723",
          "locked": false,
          "schema_version": 3,
          "solution": true,
          "task": false
        },
        "tags": []
      },
      "outputs": [],
      "source": [
        "def train_model(model, loss_fn, optimizer, num_epochs=1):\n",
        "    since = time.time()\n",
        "\n",
        "    for epoch in range(num_epochs):\n",
        "        print(f'Epoch {epoch}/{num_epochs - 1}')\n",
        "        print('-' * 10)\n",
        "\n",
        "        for phase in ['train', 'val']:\n",
        "            if phase == 'train':\n",
        "                model.train()\n",
        "            else:\n",
        "                model.eval()\n",
        "                # Weights are not updated during the validation phase\n",
        "\n",
        "            running_loss = 0.0\n",
        "            running_corrects = 0\n",
        "\n",
        "            for inputs, labels in dataloaders[phase]:\n",
        "                # 1. zeroing grads\n",
        "                optimizer.zero_grad()\n",
        "                # raise NotImplementedError()\n",
        "                with torch.set_grad_enabled(phase == 'train'):\n",
        "                    # forward step (outputs = ...)\n",
        "                    # get the predicted classes (preds = ...)\n",
        "                    # loss computing (loss = ...)\n",
        "                    output = model(inputs)\n",
        "                    _, preds = torch.max(output, 1)\n",
        "                    loss = loss_fn(output, labels)\n",
        "                    # raise NotImplementedError()\n",
        "                    if phase == 'train':\n",
        "                        # backward step\n",
        "                        # update wieghts\n",
        "                        loss.backward()\n",
        "                        optimizer.step()\n",
        "                        # raise NotImplementedError()\n",
        "                running_loss += loss.item() * inputs.size(0)\n",
        "                running_corrects += torch.sum(preds == labels.data)\n",
        "\n",
        "            epoch_loss = running_loss / dataset_sizes[phase]\n",
        "            epoch_acc = running_corrects.double() / dataset_sizes[phase]\n",
        "\n",
        "            print(f'{phase} Loss: {epoch_loss:.4f} Acc: {100*epoch_acc:.2f}%')\n",
        "\n",
        "    time_elapsed = time.time() - since\n",
        "    print(f'Training complete in {time_elapsed // 60:.0f}m {time_elapsed % 60:.0f}s')\n",
        "\n",
        "    return model"
      ]
    },
    {
      "cell_type": "code",
      "execution_count": 12,
      "metadata": {
        "colab": {
          "base_uri": "https://localhost:8080/"
        },
        "deletable": false,
        "id": "fafNCRzhKHiT",
        "nbgrader": {
          "cell_type": "code",
          "checksum": "c090554301ceb2dc90266beb7005241c",
          "grade": false,
          "grade_id": "cell-12523a6bb2edeea7",
          "locked": false,
          "schema_version": 3,
          "solution": true,
          "task": false
        },
        "outputId": "76354fc8-a3f0-44b4-a258-43487743a4ce",
        "tags": []
      },
      "outputs": [
        {
          "output_type": "stream",
          "name": "stdout",
          "text": [
            "Epoch 0/0\n",
            "----------\n",
            "train Loss: 0.7110 Acc: 50.82%\n",
            "val Loss: 0.6801 Acc: 60.78%\n",
            "Training complete in 1m 36s\n"
          ]
        }
      ],
      "source": [
        "dataloaders = {x: torch.utils.data.DataLoader(image_datasets[x], batch_size=64,\n",
        "                                             shuffle=True, num_workers=2)\n",
        "              for x in ['train', 'val']}\n",
        "\n",
        "model = get_model(pretrained=False)\n",
        "optimizer = torch.optim.SGD(model.parameters(), lr=0.001)\n",
        "\n",
        "# Launch the training over 1 epoch:\n",
        "model = train_model(model, loss_fn, optimizer)\n",
        "# YOUR CODE HERE\n",
        "# raise NotImplementedError()"
      ]
    },
    {
      "cell_type": "markdown",
      "metadata": {
        "id": "-3JiouQJKk2A"
      },
      "source": [
        "With more than 10 million parameters, training a ResNet on a CPU is much slower than the networks in Part I. \\\\\n",
        "Let's repeat the same training using the GPU."
      ]
    },
    {
      "cell_type": "code",
      "execution_count": 17,
      "metadata": {
        "colab": {
          "base_uri": "https://localhost:8080/",
          "height": 233
        },
        "id": "l1RzhRh4LQAA",
        "outputId": "70ed4a55-71d5-42f1-8f5a-620641ea8711"
      },
      "outputs": [
        {
          "output_type": "error",
          "ename": "NameError",
          "evalue": "ignored",
          "traceback": [
            "\u001b[0;31m---------------------------------------------------------------------------\u001b[0m",
            "\u001b[0;31mNameError\u001b[0m                                 Traceback (most recent call last)",
            "\u001b[0;32m<ipython-input-17-52144748b68f>\u001b[0m in \u001b[0;36m<cell line: 1>\u001b[0;34m()\u001b[0m\n\u001b[0;32m----> 1\u001b[0;31m \u001b[0mprint\u001b[0m\u001b[0;34m(\u001b[0m\u001b[0;34mf'Runtime device :{device}'\u001b[0m\u001b[0;34m)\u001b[0m\u001b[0;34m\u001b[0m\u001b[0;34m\u001b[0m\u001b[0m\n\u001b[0m\u001b[1;32m      2\u001b[0m \u001b[0;34m\u001b[0m\u001b[0m\n\u001b[1;32m      3\u001b[0m \u001b[0;31m# Load the model to the GPU:\u001b[0m\u001b[0;34m\u001b[0m\u001b[0;34m\u001b[0m\u001b[0m\n\u001b[1;32m      4\u001b[0m \u001b[0mmodel\u001b[0m \u001b[0;34m=\u001b[0m \u001b[0mmodel\u001b[0m\u001b[0;34m.\u001b[0m\u001b[0mto\u001b[0m\u001b[0;34m(\u001b[0m\u001b[0mdevice\u001b[0m\u001b[0;34m)\u001b[0m\u001b[0;34m\u001b[0m\u001b[0;34m\u001b[0m\u001b[0m\n",
            "\u001b[0;31mNameError\u001b[0m: name 'device' is not defined"
          ]
        }
      ],
      "source": [
        "print(f'Runtime device :{device}')\n",
        "\n",
        "# Load the model to the GPU:\n",
        "model = model.to(device)"
      ]
    },
    {
      "cell_type": "markdown",
      "metadata": {
        "id": "1ki5PIDPLw4Z"
      },
      "source": [
        "To load a torch.tensor on GPU, the syntax is the same:"
      ]
    },
    {
      "cell_type": "code",
      "execution_count": 18,
      "metadata": {
        "colab": {
          "base_uri": "https://localhost:8080/",
          "height": 447
        },
        "id": "0HUBH0MKMCN3",
        "outputId": "3dcb82e7-03ab-45d9-ce07-268fac76a5d8"
      },
      "outputs": [
        {
          "output_type": "stream",
          "name": "stdout",
          "text": [
            "On CPU :\n",
            " tensor([[[[0.7963, 0.4942, 0.6623, 0.0908],\n",
            "          [0.4086, 0.4944, 0.1462, 0.3017],\n",
            "          [0.3535, 0.1660, 0.3706, 0.3643],\n",
            "          [0.1636, 0.7996, 0.3765, 0.8248]]],\n",
            "\n",
            "\n",
            "        [[[0.9898, 0.9741, 0.2909, 0.8147],\n",
            "          [0.0222, 0.2063, 0.8927, 0.0468],\n",
            "          [0.5817, 0.6442, 0.5548, 0.3808],\n",
            "          [0.4467, 0.6985, 0.0175, 0.0857]]]])\n"
          ]
        },
        {
          "output_type": "error",
          "ename": "NameError",
          "evalue": "ignored",
          "traceback": [
            "\u001b[0;31m---------------------------------------------------------------------------\u001b[0m",
            "\u001b[0;31mNameError\u001b[0m                                 Traceback (most recent call last)",
            "\u001b[0;32m<ipython-input-18-e2abb504722e>\u001b[0m in \u001b[0;36m<cell line: 3>\u001b[0;34m()\u001b[0m\n\u001b[1;32m      1\u001b[0m \u001b[0mx\u001b[0m \u001b[0;34m=\u001b[0m \u001b[0mtorch\u001b[0m\u001b[0;34m.\u001b[0m\u001b[0mrand\u001b[0m\u001b[0;34m(\u001b[0m\u001b[0;36m2\u001b[0m\u001b[0;34m,\u001b[0m\u001b[0;36m1\u001b[0m\u001b[0;34m,\u001b[0m\u001b[0;36m4\u001b[0m\u001b[0;34m,\u001b[0m\u001b[0;36m4\u001b[0m\u001b[0;34m)\u001b[0m\u001b[0;34m\u001b[0m\u001b[0;34m\u001b[0m\u001b[0m\n\u001b[1;32m      2\u001b[0m \u001b[0mprint\u001b[0m\u001b[0;34m(\u001b[0m\u001b[0;34m\"On CPU :\\n\"\u001b[0m\u001b[0;34m,\u001b[0m\u001b[0mx\u001b[0m\u001b[0;34m)\u001b[0m\u001b[0;34m\u001b[0m\u001b[0;34m\u001b[0m\u001b[0m\n\u001b[0;32m----> 3\u001b[0;31m \u001b[0mx\u001b[0m \u001b[0;34m=\u001b[0m \u001b[0mx\u001b[0m\u001b[0;34m.\u001b[0m\u001b[0mto\u001b[0m\u001b[0;34m(\u001b[0m\u001b[0mdevice\u001b[0m\u001b[0;34m)\u001b[0m\u001b[0;34m\u001b[0m\u001b[0;34m\u001b[0m\u001b[0m\n\u001b[0m\u001b[1;32m      4\u001b[0m \u001b[0;31m# Note: You can also use .cuda() without specifying the device name\u001b[0m\u001b[0;34m\u001b[0m\u001b[0;34m\u001b[0m\u001b[0m\n\u001b[1;32m      5\u001b[0m \u001b[0;31m# but this method is not recommended especially in a multi-gpu environment\u001b[0m\u001b[0;34m\u001b[0m\u001b[0;34m\u001b[0m\u001b[0m\n",
            "\u001b[0;31mNameError\u001b[0m: name 'device' is not defined"
          ]
        }
      ],
      "source": [
        "x = torch.rand(2,1,4,4)\n",
        "print(\"On CPU :\\n\",x)\n",
        "x = x.to(device)\n",
        "# Note: You can also use .cuda() without specifying the device name\n",
        "# but this method is not recommended especially in a multi-gpu environment\n",
        "print(\"On GPU :\\n\",x)\n",
        "\n",
        "# bring back the x tensor to the CPU RAM:\n",
        "x = x.to('cpu') # or x.cpu()\n",
        "print('Back to CPU:\\n',x)"
      ]
    },
    {
      "cell_type": "markdown",
      "metadata": {
        "id": "KfXJyAFlMRQx"
      },
      "source": [
        "**Exercice :**\n",
        "- Complete the fonction *train_model_gpu* to train the model on GPU.\n",
        "- Compare the CPU and GPU training times."
      ]
    },
    {
      "cell_type": "code",
      "execution_count": 19,
      "metadata": {
        "deletable": false,
        "id": "rHqBOaX3NMmp",
        "nbgrader": {
          "cell_type": "code",
          "checksum": "5267acdfbaeaca0a8c63ea3aa6e70d0b",
          "grade": false,
          "grade_id": "cell-2ae12fd65c2a172b",
          "locked": false,
          "schema_version": 3,
          "solution": true,
          "task": false
        },
        "tags": [],
        "outputId": "540ba326-c554-44cc-98c5-7219dd895b56",
        "colab": {
          "base_uri": "https://localhost:8080/",
          "height": 342
        }
      },
      "outputs": [
        {
          "output_type": "stream",
          "name": "stderr",
          "text": [
            "/usr/local/lib/python3.10/dist-packages/torchvision/models/_utils.py:208: UserWarning: The parameter 'pretrained' is deprecated since 0.13 and may be removed in the future, please use 'weights' instead.\n",
            "  warnings.warn(\n",
            "/usr/local/lib/python3.10/dist-packages/torchvision/models/_utils.py:223: UserWarning: Arguments other than a weight enum or `None` for 'weights' are deprecated since 0.13 and may be removed in the future. The current behavior is equivalent to passing `weights=None`.\n",
            "  warnings.warn(msg)\n"
          ]
        },
        {
          "output_type": "error",
          "ename": "NameError",
          "evalue": "ignored",
          "traceback": [
            "\u001b[0;31m---------------------------------------------------------------------------\u001b[0m",
            "\u001b[0;31mNameError\u001b[0m                                 Traceback (most recent call last)",
            "\u001b[0;32m<ipython-input-19-0e12eed1a4f3>\u001b[0m in \u001b[0;36m<cell line: 70>\u001b[0;34m()\u001b[0m\n\u001b[1;32m     68\u001b[0m \u001b[0;34m\u001b[0m\u001b[0m\n\u001b[1;32m     69\u001b[0m \u001b[0;34m\u001b[0m\u001b[0m\n\u001b[0;32m---> 70\u001b[0;31m \u001b[0mmodel\u001b[0m \u001b[0;34m=\u001b[0m \u001b[0mget_model\u001b[0m\u001b[0;34m(\u001b[0m\u001b[0mpretrained\u001b[0m\u001b[0;34m=\u001b[0m\u001b[0;32mFalse\u001b[0m\u001b[0;34m)\u001b[0m\u001b[0;34m.\u001b[0m\u001b[0mto\u001b[0m\u001b[0;34m(\u001b[0m\u001b[0mdevice\u001b[0m\u001b[0;34m)\u001b[0m\u001b[0;34m\u001b[0m\u001b[0;34m\u001b[0m\u001b[0m\n\u001b[0m\u001b[1;32m     71\u001b[0m \u001b[0moptimizer\u001b[0m \u001b[0;34m=\u001b[0m \u001b[0mtorch\u001b[0m\u001b[0;34m.\u001b[0m\u001b[0moptim\u001b[0m\u001b[0;34m.\u001b[0m\u001b[0mSGD\u001b[0m\u001b[0;34m(\u001b[0m\u001b[0mmodel\u001b[0m\u001b[0;34m.\u001b[0m\u001b[0mparameters\u001b[0m\u001b[0;34m(\u001b[0m\u001b[0;34m)\u001b[0m\u001b[0;34m,\u001b[0m \u001b[0mlr\u001b[0m\u001b[0;34m=\u001b[0m\u001b[0;36m0.001\u001b[0m\u001b[0;34m)\u001b[0m\u001b[0;34m\u001b[0m\u001b[0;34m\u001b[0m\u001b[0m\n\u001b[1;32m     72\u001b[0m \u001b[0;34m\u001b[0m\u001b[0m\n",
            "\u001b[0;31mNameError\u001b[0m: name 'device' is not defined"
          ]
        }
      ],
      "source": [
        "def train_model_gpu(model, loss_fn, optimizer, num_epochs=1):\n",
        "    # Record the starting time\n",
        "    since = time.time()\n",
        "    # Loop through epochs\n",
        "    for epoch in range(num_epochs):\n",
        "        print(f'Epoch {epoch}/{num_epochs - 1}')\n",
        "        print('-' * 10)\n",
        "\n",
        "        # Iterate through training and validation phases\n",
        "        for phase in ['train', 'val']:\n",
        "            # Set the model to training mode during the training phase, and evaluation mode during validation\n",
        "            if phase == 'train':\n",
        "                model.train()\n",
        "            else:\n",
        "                model.eval()\n",
        "\n",
        "            # Initialize counters for loss and correct predictions\n",
        "            running_loss = 0.0\n",
        "            running_corrects = 0\n",
        "\n",
        "            # Iterate through batches in the data loader\n",
        "            for inputs, labels in dataloaders[phase]:\n",
        "                # Move inputs and labels to the specified device (GPU)\n",
        "                inputs = inputs.to(device)\n",
        "                labels = labels.to(device)\n",
        "                # raise NotImplementedError()\n",
        "\n",
        "                # Zero the gradients in the optimizer (same as in train_model())\n",
        "                optimizer.zero_grad()\n",
        "                # raise NotImplementedError()\n",
        "                # Forward pass: compute model outputs and predictions (same as in train_model())\n",
        "                with torch.set_grad_enabled(phase == 'train'):\n",
        "                    output = model(inputs)\n",
        "                    _, preds = torch.max(output, 1)\n",
        "                    loss = loss_fn(output, labels)\n",
        "                    # raise NotImplementedError()\n",
        "                    # Backward pass and optimization step if in the training phase (same as in train_model())\n",
        "                    if phase == 'train':\n",
        "                        # backward step\n",
        "                        # update wieghts\n",
        "                        loss.backward()\n",
        "                        optimizer.step()\n",
        "                    # raise NotImplementedError()\n",
        "                # Update counters\n",
        "                running_loss += loss.item() * inputs.size(0)\n",
        "                acc = torch.sum(preds == labels.data)\n",
        "                # The 'acc' tensor is distributed across different parts of the GPU\n",
        "                # Gather the 'acc' tensor on the CPU before accumulation\n",
        "                # running_corrects += ...\n",
        "                # YOUR CODE HERE\n",
        "                acc = acc.to('cpu')\n",
        "                running_corrects += acc\n",
        "\n",
        "                # raise NotImplementedError()\n",
        "\n",
        "            # Calculate average loss and accuracy for the epoch\n",
        "            epoch_loss = running_loss / dataset_sizes[phase]\n",
        "            epoch_acc = running_corrects.double() / dataset_sizes[phase]\n",
        "\n",
        "            # Print epoch statistics\n",
        "            print(f'{phase} Loss: {epoch_loss:.4f} Acc: {100*epoch_acc:.2f}%')\n",
        "\n",
        "    # Calculate and print the total training time\n",
        "    time_elapsed = time.time() - since\n",
        "    print(f'Training complete in {time_elapsed // 60:.0f}m {time_elapsed % 60:.0f}s')\n",
        "    # Return the trained model\n",
        "    return model\n",
        "\n",
        "\n",
        "model = get_model(pretrained=False).to(device)\n",
        "optimizer = torch.optim.SGD(model.parameters(), lr=0.001)\n",
        "\n",
        "model = train_model_gpu(model, loss_fn, optimizer, num_epochs=1)"
      ]
    },
    {
      "cell_type": "markdown",
      "metadata": {
        "id": "uZoxMQl-CiUN"
      },
      "source": [
        "### **GPU**\n",
        "A GPU, or Graphics Processing Unit, is a specialized electronic circuit designed to accelerate the processing of images and videos. Originally developed for rendering graphics in video games, GPUs have evolved into highly parallel processors that excel at performing many simultaneous calculations. Unlike CPUs (Central Processing Unit), the GPUs are optimized for parallel processing tasks.\n",
        "\n",
        "Key characteristics of GPUs include:\n",
        "\n",
        "1. **Parallel Processing:** GPUs consist of a large number of cores, allowing them to handle multiple tasks simultaneously. This makes them well-suited for parallelizable computations.\n",
        "\n",
        "2. **Vectorized Processing:** GPUs are designed to efficiently perform operations on vectors and matrices. This is particularly beneficial for tasks such as linear algebra operations, which are common in machine learning and scientific computing.\n",
        "\n",
        "3. **High Memory Bandwidth:** GPUs have high-speed memory to quickly access and manipulate large amounts of data, making them suitable for tasks that involve substantial data throughput.\n",
        "\n",
        "4. **Floating-Point Performance:** GPUs are optimized for floating-point arithmetic, which is important for applications that require precision in numerical calculations.\n",
        "\n",
        "5. **Specialized Compute APIs:** Modern GPUs support specialized compute APIs (Application Programming Interfaces) such as CUDA (Compute Unified Device Architecture) for NVIDIA GPUs or OpenCL (Open Computing Language), which allows developers to offload parallelizable tasks to the GPU.\n",
        "\n",
        "6. **General-Purpose GPU Computing:** Beyond graphics rendering, GPUs are now widely used for general-purpose computing, including scientific simulations, machine learning, data analysis, and other computationally intensive tasks.\n",
        "\n",
        "In the context of machine learning, deep learning frameworks like TensorFlow and PyTorch leverage GPUs to accelerate the training of neural networks. The parallel processing capabilities of GPUs enable the simultaneous computation of numerous mathematical operations, significantly speeding up training times compared to using only a CPU."
      ]
    },
    {
      "cell_type": "markdown",
      "metadata": {
        "id": "aPiZpob4xH7P"
      },
      "source": [
        "## **C.**  Improving the Training Procedure:\n",
        "\n",
        "Before comparing different transfer approaches, let's improve the training procedure a bit. We can add momentum to the gradient descent. The  [increment calculation](https://pytorch.org/docs/master/optim.html#torch.optim.SGD) will depend not only on the current gradient but also on past increment values stored in $d_i$:\n",
        "\n",
        "\\begin{equation}\n",
        "d_i^{t+1} = momentum \\times d_i^{t} +    \\dfrac{\\partial \\mathcal{L_{batch}^{t+1}}} {\\partial{\\omega_i}} \\\\\n",
        "w_i^{t+1}  = w_i^{t} - lr \\times d_i^{t+1}\n",
        "\\end{equation}\n",
        "\n",
        "Here is an example:\n",
        "\n",
        "`optimizer = torch.optim.SGD(model.parameters(), lr=0.001, momentum=0.9)`\n"
      ]
    },
    {
      "cell_type": "markdown",
      "metadata": {
        "id": "9zXmy-HFvWQR"
      },
      "source": [
        "Next, we'll add a *scheduler* that gradually decreases the learning rate *lr*. With the following *scheduler*, every five epochs, *lr* is multiplied by gamma = 0.1. \\\\\n",
        "`scheduler =  torch.optim.lr_scheduler.StepLR(optimizer, step_size=5, gamma=0.1)`\n",
        "\n",
        "The *scheduler* needs access to the *lr* in the optimizer, so it is passed as an argument. The scheduler acts on *lr* only at the end of an epoch, and to make this action effective, you need to add this line outside the loader iteration loop:\n",
        "\n",
        "`scheduler.step()`\n"
      ]
    },
    {
      "cell_type": "markdown",
      "metadata": {
        "id": "DErP0Z3JvpEO"
      },
      "source": [
        "**Exercise**: Integrate these elements into the training function. Check that the learning rate decreases as expected.\n"
      ]
    },
    {
      "cell_type": "code",
      "execution_count": 20,
      "metadata": {
        "deletable": false,
        "id": "CEaDuJ8qci4K",
        "nbgrader": {
          "cell_type": "code",
          "checksum": "d9898958718e44ce28a614722ade8bb4",
          "grade": false,
          "grade_id": "cell-1edb88b91f8b8c6a",
          "locked": false,
          "schema_version": 3,
          "solution": true,
          "task": false
        },
        "tags": []
      },
      "outputs": [],
      "source": [
        "def train_model_gpu_scheduler(model, loss_fn, optimizer,scheduler, num_epochs=1):\n",
        "    # Record the starting time\n",
        "    since = time.time()\n",
        "    # Loop through epochs\n",
        "    for epoch in range(num_epochs):\n",
        "        print(f'Epoch {epoch}/{num_epochs - 1}')\n",
        "        print('-' * 10)\n",
        "\n",
        "        # Iterate through training and validation phases\n",
        "        for phase in ['train', 'val']:\n",
        "            # Set the model to training mode during the training phase, and evaluation mode during validation\n",
        "            if phase == 'train':\n",
        "                model.train()\n",
        "            else:\n",
        "                model.eval()\n",
        "\n",
        "            # Initialize counters for loss and correct predictions\n",
        "            running_loss = 0.0\n",
        "            running_corrects = 0\n",
        "\n",
        "            # Iterate through batches in the data loader\n",
        "            for inputs, labels in dataloaders[phase]:\n",
        "                # Move inputs and labels to the specified device (same as in train_model_gpu())\n",
        "                inputs = inputs.to(device)\n",
        "                lables = labels.to(device)\n",
        "                # raise NotImplementedError()\n",
        "\n",
        "                # Zero the gradients in the optimizer (same as in train_model())\n",
        "                optimizer.zero_grad()\n",
        "                # raise NotImplementedError()\n",
        "                # Forward pass: compute model outputs and predictions (same as in train_model())\n",
        "                with torch.set_grad_enabled(phase == 'train'):\n",
        "                  outputs = model(inputs)\n",
        "                  _, preds = torch.max(outputs, 1)\n",
        "                  loss = loss_fn(outputs, labels)\n",
        "                    # raise NotImplementedError()\n",
        "                    # Backward pass and optimization step if in the training phase (same as in train_model())\n",
        "                  if phase == 'train':\n",
        "                    loss.backward()\n",
        "                    optimizer.step()\n",
        "                    # raise NotImplementedError()\n",
        "\n",
        "                # Update counters\n",
        "                running_loss += loss.item() * inputs.size(0)\n",
        "                acc = torch.sum(preds == labels.data)\n",
        "                # The 'acc' tensor is distributed across different parts of the GPU\n",
        "                # Gather the 'acc' tensor on the CPU before accumulation (same as in train_model_gpu())\n",
        "                acc = acc.to(device)\n",
        "                running_corrects += acc\n",
        "                # raise NotImplementedError()\n",
        "\n",
        "            # Calculate average loss and accuracy for the epoch\n",
        "            epoch_loss = running_loss / dataset_sizes[phase]\n",
        "            epoch_acc = running_corrects.double() / dataset_sizes[phase]\n",
        "\n",
        "            # Print epoch statistics\n",
        "            print(f'{phase} Loss: {epoch_loss:.4f} Acc: {100*epoch_acc:.2f}%')\n",
        "        # update the learning rate\n",
        "        # print it (hint: look at optimizer.param_groups)\n",
        "        print(\"old lr in Epoch {}, Learning Rate: {}\".format(epoch, optimizer.param_groups[0]['lr']))\n",
        "        scheduler.step()\n",
        "\n",
        "        # Print the updated learning rate after each epoch\n",
        "        print(\"new lr in Epoch {}, Learning Rate: {}\".format(epoch, optimizer.param_groups[0]['lr']))\n",
        "        # raise NotImplementedError()\n",
        "\n",
        "    # Calculate and print the total training time\n",
        "    time_elapsed = time.time() - since\n",
        "    print(f'Training complete in {time_elapsed // 60:.0f}m {time_elapsed % 60:.0f}s')\n",
        "    return model\n"
      ]
    },
    {
      "cell_type": "code",
      "execution_count": 21,
      "metadata": {
        "id": "435lCrmPYLc8",
        "outputId": "cff704d5-5c6b-4c92-c7ae-8324c366b13a",
        "colab": {
          "base_uri": "https://localhost:8080/",
          "height": 342
        }
      },
      "outputs": [
        {
          "output_type": "stream",
          "name": "stderr",
          "text": [
            "/usr/local/lib/python3.10/dist-packages/torchvision/models/_utils.py:208: UserWarning: The parameter 'pretrained' is deprecated since 0.13 and may be removed in the future, please use 'weights' instead.\n",
            "  warnings.warn(\n",
            "/usr/local/lib/python3.10/dist-packages/torchvision/models/_utils.py:223: UserWarning: Arguments other than a weight enum or `None` for 'weights' are deprecated since 0.13 and may be removed in the future. The current behavior is equivalent to passing `weights=None`.\n",
            "  warnings.warn(msg)\n"
          ]
        },
        {
          "output_type": "error",
          "ename": "NameError",
          "evalue": "ignored",
          "traceback": [
            "\u001b[0;31m---------------------------------------------------------------------------\u001b[0m",
            "\u001b[0;31mNameError\u001b[0m                                 Traceback (most recent call last)",
            "\u001b[0;32m<ipython-input-21-38ceec468b25>\u001b[0m in \u001b[0;36m<cell line: 1>\u001b[0;34m()\u001b[0m\n\u001b[0;32m----> 1\u001b[0;31m \u001b[0mmodel\u001b[0m \u001b[0;34m=\u001b[0m \u001b[0mget_model\u001b[0m\u001b[0;34m(\u001b[0m\u001b[0mpretrained\u001b[0m\u001b[0;34m=\u001b[0m\u001b[0;32mFalse\u001b[0m\u001b[0;34m)\u001b[0m\u001b[0;34m.\u001b[0m\u001b[0mto\u001b[0m\u001b[0;34m(\u001b[0m\u001b[0mdevice\u001b[0m\u001b[0;34m)\u001b[0m\u001b[0;34m\u001b[0m\u001b[0;34m\u001b[0m\u001b[0m\n\u001b[0m\u001b[1;32m      2\u001b[0m \u001b[0moptimizer\u001b[0m \u001b[0;34m=\u001b[0m \u001b[0mtorch\u001b[0m\u001b[0;34m.\u001b[0m\u001b[0moptim\u001b[0m\u001b[0;34m.\u001b[0m\u001b[0mSGD\u001b[0m\u001b[0;34m(\u001b[0m\u001b[0mmodel\u001b[0m\u001b[0;34m.\u001b[0m\u001b[0mparameters\u001b[0m\u001b[0;34m(\u001b[0m\u001b[0;34m)\u001b[0m\u001b[0;34m,\u001b[0m \u001b[0mlr\u001b[0m\u001b[0;34m=\u001b[0m\u001b[0;36m0.001\u001b[0m\u001b[0;34m,\u001b[0m \u001b[0mmomentum\u001b[0m\u001b[0;34m=\u001b[0m\u001b[0;36m0.9\u001b[0m\u001b[0;34m)\u001b[0m\u001b[0;34m\u001b[0m\u001b[0;34m\u001b[0m\u001b[0m\n\u001b[1;32m      3\u001b[0m \u001b[0mscheduler\u001b[0m \u001b[0;34m=\u001b[0m  \u001b[0mtorch\u001b[0m\u001b[0;34m.\u001b[0m\u001b[0moptim\u001b[0m\u001b[0;34m.\u001b[0m\u001b[0mlr_scheduler\u001b[0m\u001b[0;34m.\u001b[0m\u001b[0mStepLR\u001b[0m\u001b[0;34m(\u001b[0m\u001b[0moptimizer\u001b[0m\u001b[0;34m,\u001b[0m \u001b[0mstep_size\u001b[0m\u001b[0;34m=\u001b[0m\u001b[0;36m2\u001b[0m\u001b[0;34m,\u001b[0m \u001b[0mgamma\u001b[0m\u001b[0;34m=\u001b[0m\u001b[0;36m0.1\u001b[0m\u001b[0;34m)\u001b[0m\u001b[0;34m\u001b[0m\u001b[0;34m\u001b[0m\u001b[0m\n\u001b[1;32m      4\u001b[0m \u001b[0;34m\u001b[0m\u001b[0m\n\u001b[1;32m      5\u001b[0m \u001b[0mmodel\u001b[0m \u001b[0;34m=\u001b[0m \u001b[0mtrain_model_gpu_scheduler\u001b[0m\u001b[0;34m(\u001b[0m\u001b[0mmodel\u001b[0m\u001b[0;34m,\u001b[0m \u001b[0mloss_fn\u001b[0m\u001b[0;34m,\u001b[0m \u001b[0moptimizer\u001b[0m\u001b[0;34m,\u001b[0m \u001b[0mscheduler\u001b[0m\u001b[0;34m,\u001b[0m \u001b[0mnum_epochs\u001b[0m\u001b[0;34m=\u001b[0m\u001b[0;36m10\u001b[0m\u001b[0;34m)\u001b[0m\u001b[0;34m\u001b[0m\u001b[0;34m\u001b[0m\u001b[0m\n",
            "\u001b[0;31mNameError\u001b[0m: name 'device' is not defined"
          ]
        }
      ],
      "source": [
        "model = get_model(pretrained=False).to(device)\n",
        "optimizer = torch.optim.SGD(model.parameters(), lr=0.001, momentum=0.9)\n",
        "scheduler =  torch.optim.lr_scheduler.StepLR(optimizer, step_size=2, gamma=0.1)\n",
        "\n",
        "model = train_model_gpu_scheduler(model, loss_fn, optimizer, scheduler, num_epochs=10)"
      ]
    },
    {
      "cell_type": "markdown",
      "metadata": {
        "id": "T--j72IXvij_"
      },
      "source": [
        "**Important note:** As you may notice, there are quite a few parameters to set, `learning rate`, `momentum`, `gamma`, `step_size`, etc... Typically, we use the parameterization that achieves the best scores on the validation dataset. To do this, we save the weights during training as soon as a validation record is reached. Note that by selecting the model this way, we are essentially training on the validation dataset. \\\\\n",
        "This is why evaluating a selected model on the validation set always takes place on an independent **test dataset**, separate from the validation and training sets.\n",
        "\n",
        "For reference, here's how to store model weights in PyTorch:\n",
        "```python\n",
        "import copy\n",
        "\n",
        "# At the end of each epoch, save the best model:\n",
        "if phase == \"val\" and epoch_acc > best_val_acc:\n",
        "  best_model_wts = copy.deepcopy(model.state_dict())\n",
        "\n",
        "# After training, before testing the model, load the best model:\n",
        "model.load_state_dict(best_model_wts)\n",
        "```"
      ]
    },
    {
      "cell_type": "markdown",
      "metadata": {
        "id": "nA0YW6DKeIbD"
      },
      "source": [
        "## **D.** Impact of pretraining on performance:"
      ]
    },
    {
      "cell_type": "markdown",
      "metadata": {
        "id": "Y6bycjSu1Lj_"
      },
      "source": [
        "Training is faster on a GPU, but it only leads to a very poor score, barely better than random chance. To improve performance, a simple idea is to use a network trained on a similar (or more general) task as a starting point for learning. Here, it works particularly well with networks trained on ImageNet, whose convolutional filters are already very rich.\n",
        "\n",
        "**Note:**\n",
        "This method is refered to as **fine-tuning** a **pretrained model**."
      ]
    },
    {
      "cell_type": "markdown",
      "metadata": {
        "id": "hMrZLn_5eVOg"
      },
      "source": [
        "**Exercise**:\n",
        "Modify the training function to retrieve successive training and validation accuracies."
      ]
    },
    {
      "cell_type": "code",
      "execution_count": null,
      "metadata": {
        "deletable": false,
        "id": "u1lj01DYrtOi",
        "nbgrader": {
          "cell_type": "code",
          "checksum": "03464bce021df930d1bd720c974f8eb0",
          "grade": false,
          "grade_id": "cell-fae8accf732dfe01",
          "locked": false,
          "schema_version": 3,
          "solution": true,
          "task": false
        },
        "tags": []
      },
      "outputs": [],
      "source": [
        "def train(model, loss_fn, optimizer,scheduler, num_epochs=1):\n",
        "    # Record the starting time\n",
        "    since = time.time()\n",
        "    accs = []\n",
        "    tr_acc = []\n",
        "    val_acc = []\n",
        "    for epochs in range(num_epochs):\n",
        "      a=0\n",
        "      print(f'Epoch {epochs+1}/{num_epochs}')\n",
        "      print('*'*20)\n",
        "\n",
        "      for phase in ['train', 'val']:\n",
        "\n",
        "        ############################################################\n",
        "\n",
        "        if phase == 'val':\n",
        "          model.eval()\n",
        "        else:\n",
        "          model.train()\n",
        "\n",
        "        ############################################################\n",
        "\n",
        "        running_loss = 0.0\n",
        "        running_corrects = 0.0\n",
        "\n",
        "        for inputs, labels in dataloaders[phase]:\n",
        "\n",
        "\n",
        "\n",
        "\n",
        "    return model, accs\n"
      ]
    },
    {
      "cell_type": "markdown",
      "metadata": {
        "id": "C9uwx43rwFde"
      },
      "source": [
        "**Exercise:** Compare two ResNet18 trainings, one randomly initialized and the other pre-trained, using learning curves, over 25 epochs."
      ]
    },
    {
      "cell_type": "code",
      "execution_count": null,
      "metadata": {
        "deletable": false,
        "id": "bjWpSKA5QLXT",
        "nbgrader": {
          "cell_type": "code",
          "checksum": "07035b2ac33e340cbd639dd6d2a714b4",
          "grade": false,
          "grade_id": "cell-ee462750685c4631",
          "locked": false,
          "schema_version": 3,
          "solution": true,
          "task": false
        },
        "tags": []
      },
      "outputs": [],
      "source": [
        "max_epochs = 25\n",
        "# Learning \"from scratch\" (random weights) :\n",
        "# get the model\n",
        "# Put the model on GPU\n",
        "# get the loss, optimize, the scheduler and starting the training\n",
        "# ...\n",
        "# resnet_scratch, accs_scratch = train(...)\n",
        "# YOUR CODE HERE\n",
        "raise NotImplementedError()\n"
      ]
    },
    {
      "cell_type": "code",
      "execution_count": null,
      "metadata": {
        "deletable": false,
        "id": "P4Gd2XDHq1zS",
        "nbgrader": {
          "cell_type": "code",
          "checksum": "2d7c283669a16e353aa3930810d9b5db",
          "grade": false,
          "grade_id": "cell-54882ed9e75f5e07",
          "locked": false,
          "schema_version": 3,
          "solution": true,
          "task": false
        },
        "tags": []
      },
      "outputs": [],
      "source": [
        "# fine tuning a pretrained model:\n",
        "# ...\n",
        "# resnet_ft, accs_ft = train(...)\n",
        "# YOUR CODE HERE\n",
        "raise NotImplementedError()"
      ]
    },
    {
      "cell_type": "markdown",
      "metadata": {
        "id": "3_rd4a3e_msy"
      },
      "source": [
        "**Learning curves**"
      ]
    },
    {
      "cell_type": "code",
      "execution_count": null,
      "metadata": {
        "deletable": false,
        "id": "m0LYF_qq-irH",
        "nbgrader": {
          "cell_type": "code",
          "checksum": "401c030f820f72603c8845927e135290",
          "grade": false,
          "grade_id": "cell-dcd99196be31043b",
          "locked": false,
          "schema_version": 3,
          "solution": true,
          "task": false
        },
        "tags": []
      },
      "outputs": [],
      "source": [
        "# Set the style\n",
        "plt.style.use('seaborn-whitegrid')\n",
        "# Create a figure and axis\n",
        "fig, ax = plt.subplots(figsize=(10, 6))\n",
        "# Plot the data with improved style\n",
        "epochs = np.arange(max_epochs)\n",
        "\n",
        "# YOUR CODE HERE\n",
        "raise NotImplementedError()\n",
        "# Assuming accs_scratch and accs_ft are dictionaries with 'val' as a key\n",
        "# you can use the following lines\n",
        "#ax.plot(epochs, 100 * np.array(accs_scratch['val']), color='skyblue',\n",
        "#        label='Training from Scratch', marker='o', linestyle='-', linewidth=2)\n",
        "#ax.plot(epochs, 100 * np.array(accs_ft['val']), color='lightgreen',\n",
        "#        label='Fine Tuning', marker='s', linestyle='-', linewidth=2)\n",
        "\n",
        "# Set title and axis labels\n",
        "ax.set_title('Validation Accuracy Over Epochs', fontsize=16)\n",
        "ax.set_ylabel(\"Accuracy (%)\", fontsize=14)\n",
        "ax.set_xlabel(\"Epochs\", fontsize=14)\n",
        "\n",
        "# Set grid for better readability\n",
        "ax.grid(True, linestyle='--', alpha=0.7)\n",
        "# Add legend with a border and shadow\n",
        "ax.legend(frameon=True, fancybox=True, shadow=True, framealpha=0.9, fontsize=12)\n",
        "plt.show()\n"
      ]
    },
    {
      "cell_type": "markdown",
      "metadata": {
        "id": "wTi5d61ABcA4"
      },
      "source": [
        "The fine-tuning approach has many variations that fit into the broader framework of **transfer learning**. Partial fine-tuning, as illustrated in the following exercise, is one of these variations."
      ]
    },
    {
      "cell_type": "markdown",
      "metadata": {
        "id": "8V_Cq0D_BRRg"
      },
      "source": [
        "**Exercise:** Instead of retraining all the weights, you can simply use the weights of the classifier. This is referred to as *freezing* the other weights during retraining.\n",
        "- Implement this approach and compare it with the previous ones."
      ]
    },
    {
      "cell_type": "code",
      "execution_count": null,
      "metadata": {
        "deletable": false,
        "id": "EN4cwBcOLQsS",
        "nbgrader": {
          "cell_type": "code",
          "checksum": "3e8e04313c448bae05857d890d16b4c1",
          "grade": false,
          "grade_id": "cell-d8658e2534c37bdf",
          "locked": false,
          "schema_version": 3,
          "solution": true,
          "task": false
        },
        "tags": []
      },
      "outputs": [],
      "source": [
        "resnet = torchvision.models.resnet18(pretrained=True)\n",
        "\n",
        "num_ftrs = resnet.fc.in_features\n",
        "resnet.fc = nn.Linear(num_ftrs, 2)\n",
        "\n",
        "# freeze all the layers except the classifier (the last dense layers at end)\n",
        "# YOUR CODE HERE\n",
        "raise NotImplementedError()\n",
        "\n",
        "freezed_resnet = resnet.to(device)\n",
        "# train the model\n",
        "# ...\n",
        "# freezed_resnet, accs_freezing = train(...)\n",
        "# YOUR CODE HERE\n",
        "raise NotImplementedError()"
      ]
    },
    {
      "cell_type": "code",
      "execution_count": null,
      "metadata": {
        "deletable": false,
        "id": "4kvLEMvxs3iS",
        "nbgrader": {
          "cell_type": "code",
          "checksum": "42c3c5f160b57ed47e099047a63dd758",
          "grade": false,
          "grade_id": "cell-7528e2b13b4c6001",
          "locked": false,
          "schema_version": 3,
          "solution": true,
          "task": false
        },
        "tags": []
      },
      "outputs": [],
      "source": [
        "# Set the style\n",
        "plt.style.use('seaborn-whitegrid')\n",
        "# Create a figure and axis\n",
        "fig, ax = plt.subplots(figsize=(10, 6))\n",
        "# Plot the data with improved style\n",
        "epochs = np.arange(max_epochs)\n",
        "\n",
        "# YOUR CODE HERE\n",
        "raise NotImplementedError()\n",
        "\n",
        "# Set title and axis labels\n",
        "ax.set_title('Validation Accuracy Over Epochs', fontsize=16)\n",
        "ax.set_ylabel(\"Accuracy (%)\", fontsize=14)\n",
        "ax.set_xlabel(\"Epochs\", fontsize=14)\n",
        "\n",
        "# Set grid for better readability\n",
        "ax.grid(True, linestyle='--', alpha=0.7)\n",
        "# Add legend with a border and shadow\n",
        "ax.legend(frameon=True, fancybox=True, shadow=True, framealpha=0.9, fontsize=12)\n",
        "plt.show()\n"
      ]
    },
    {
      "cell_type": "markdown",
      "metadata": {
        "id": "oaXUV1Ea96gC"
      },
      "source": [
        "In the end, for this small dataset, retraining the last layer performs just as well as global training. To conclude, let's make some predictions with the model on the validation dataset:"
      ]
    },
    {
      "cell_type": "code",
      "execution_count": null,
      "metadata": {
        "id": "8yxcz-S8rJKD"
      },
      "outputs": [],
      "source": [
        "def visualize_model(model, num_images=10):\n",
        "    was_training = model.training\n",
        "    model.eval()\n",
        "    images_so_far = 0\n",
        "    fig = plt.figure(figsize=(25,num_images//5*5))\n",
        "\n",
        "    with torch.no_grad():\n",
        "        for i, (inputs, labels) in enumerate(dataloaders['val']):\n",
        "            inputs = inputs.to(device)\n",
        "            labels = labels.to(device)\n",
        "\n",
        "            outputs = model(inputs)\n",
        "            _, preds = torch.max(outputs, 1)\n",
        "\n",
        "            for j in range(inputs.size()[0]):\n",
        "                images_so_far += 1\n",
        "                ax = plt.subplot(num_images//5, 5, images_so_far)\n",
        "                ax.axis('off')\n",
        "                imshow(inputs.cpu().data[j],ax,'Predicted: {}'.format(class_names[preds[j]]))\n",
        "\n",
        "                if images_so_far == num_images:\n",
        "                    model.train(mode=was_training)\n",
        "                    return\n",
        "        model.train(mode=was_training)"
      ]
    },
    {
      "cell_type": "code",
      "execution_count": null,
      "metadata": {
        "id": "gzc5gNmAMGCK"
      },
      "outputs": [],
      "source": [
        "visualize_model(freezed_resnet)"
      ]
    },
    {
      "cell_type": "code",
      "execution_count": null,
      "metadata": {
        "id": "3h-nTP1jDxAh"
      },
      "outputs": [],
      "source": []
    }
  ],
  "metadata": {
    "accelerator": "GPU",
    "colab": {
      "provenance": [],
      "gpuType": "T4"
    },
    "kernelspec": {
      "display_name": "Python 3",
      "name": "python3"
    },
    "language_info": {
      "codemirror_mode": {
        "name": "ipython",
        "version": 3
      },
      "file_extension": ".py",
      "mimetype": "text/x-python",
      "name": "python",
      "nbconvert_exporter": "python",
      "pygments_lexer": "ipython3",
      "version": "3.9.7"
    }
  },
  "nbformat": 4,
  "nbformat_minor": 0
}